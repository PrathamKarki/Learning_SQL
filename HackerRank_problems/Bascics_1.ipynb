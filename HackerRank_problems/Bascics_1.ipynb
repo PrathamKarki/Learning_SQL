{
 "cells": [
  {
   "cell_type": "code",
   "execution_count": null,
   "id": "fcf81226",
   "metadata": {
    "vscode": {
     "languageId": "shellscript"
    }
   },
   "outputs": [],
   "source": [
    "# Query all columns for all American cities in the CITY table with populations larger than 100000. The CountryCode for America is USA.\n",
    "SELECT *\n",
    "FROM CITY\n",
    "WHERE POPULATION > 100000 AND COUNTRYCODE= 'USA';"
   ]
  },
  {
   "cell_type": "code",
   "execution_count": null,
   "id": "82fbf21d",
   "metadata": {
    "vscode": {
     "languageId": "shellscript"
    }
   },
   "outputs": [],
   "source": [
    "# Query the NAME field for all American cities in the CITY table with populations larger than 120000. The CountryCode for America is USA.\n",
    "\n",
    "SELECT NAME\n",
    "FROM CITY\n",
    "WHERE POPULATION > 120000 AND COUNTRYCODE = 'USA';"
   ]
  },
  {
   "cell_type": "code",
   "execution_count": null,
   "id": "b11480e7",
   "metadata": {
    "vscode": {
     "languageId": "shellscript"
    }
   },
   "outputs": [],
   "source": [
    "# Query all columns (attributes) for every row in the CITY table.\n",
    "\n",
    "SELECT *\n",
    "FROM CITY;\n",
    "\n",
    "# Query all columns for a city in CITY with the ID 1661.\n",
    "\n",
    "SELECT *\n",
    "FROM CITY\n",
    "WHERE ID = 1661;"
   ]
  },
  {
   "cell_type": "code",
   "execution_count": null,
   "id": "1e99be4f",
   "metadata": {
    "vscode": {
     "languageId": "shellscript"
    }
   },
   "outputs": [],
   "source": [
    "# Query all attributes of every Japanese city in the CITY table. The COUNTRYCODE for Japan is JPN.\n",
    "\n",
    "SELECT *\n",
    "FROM CITY\n",
    "WHERE COUNTRYCODE = 'JPN';\n",
    "\n",
    "# Query the names of all the Japanese cities in the CITY table. The COUNTRYCODE for Japan is JPN.\n",
    "\n",
    "SELECT NAME\n",
    "FROM CITY\n",
    "WHERE COUNTRYCODE = 'JPN';"
   ]
  },
  {
   "cell_type": "code",
   "execution_count": null,
   "id": "34d1b933",
   "metadata": {
    "vscode": {
     "languageId": "shellscript"
    }
   },
   "outputs": [],
   "source": [
    "# Query a list of CITY and STATE from the STATION table.\n",
    "\n",
    "SELECT CITY, STATION\n",
    "FROM STATION;\n"
   ]
  },
  {
   "cell_type": "code",
   "execution_count": null,
   "id": "6f584911",
   "metadata": {
    "vscode": {
     "languageId": "shellscript"
    }
   },
   "outputs": [],
   "source": [
    " # Query a list of CITY names from STATION for cities that have an even ID number.\n",
    " # Print the results in any order, but exclude duplicates from the answer.\n",
    "\n",
    " SELECT DISTINCT CITY \n",
    " FROM STATION \n",
    " WHERE ID % 2 = 0;\n"
   ]
  },
  {
   "cell_type": "code",
   "execution_count": null,
   "id": "f003195c",
   "metadata": {
    "vscode": {
     "languageId": "shellscript"
    }
   },
   "outputs": [],
   "source": [
    "# Find the difference between the total number of CITY entries in the table and \n",
    "# the number of distinct CITY entries in the table.\n",
    "\n",
    "SELECT COUNT(CITY) - COUNT(DISTINCT CITY)\n",
    "FROM STATION;\n"
   ]
  }
 ],
 "metadata": {
  "language_info": {
   "name": "python"
  }
 },
 "nbformat": 4,
 "nbformat_minor": 5
}
