{
 "cells": [
  {
   "cell_type": "markdown",
   "id": "cdd572cc",
   "metadata": {},
   "source": [
    "SQL BOLT\n",
    "\n",
    "Interactive Tutorial\n",
    "\n",
    "https://sqlbolt.com/\n",
    "\n",
    "Learning SQL with simple, and interactive exercises\n",
    "\n",
    "\n",
    "Table of Contents\n",
    "\n",
    "1. SELECT queries\n",
    "2. Queries with constraints (Pt. 1))\n",
    "3. Queries with constraints (Pt. 2))\n",
    "4. Filtering and sorting Query results\n",
    "5. Simple SELECT Queries Review\n",
    "6. Multi-table queries with JOINs\n",
    "7. OUTER JOINs\n",
    "8. A short note on NULLs\n",
    "9. Queries with expressions\n",
    "10. Queries with aggregates (Pt. 1))\n",
    "11. Queries with aggregates (Pt. 2))\n",
    "12. Order of execution of a Query\n",
    "13. Inserting rows\n",
    "14. Updating rows\n",
    "15. Deleting rows\n",
    "16. Creating tables\n",
    "17. Altering tables\n",
    "18. Dropping tables\n",
    "19. Subqueries\n",
    "20. Unions, Intersections & Exceptions\n",
    "\n",
    "\n",
    "\n"
   ]
  },
  {
   "cell_type": "code",
   "execution_count": null,
   "id": "c9e0f58c",
   "metadata": {
    "vscode": {
     "languageId": "shellscript"
    }
   },
   "outputs": [],
   "source": [
    "\n",
    "# SQL Lesson 1: SELECT QUERIES \n",
    "# Task 1: Find the title of each movie\n",
    "SELECT title FROM movies;\n",
    "\n",
    "# Task 2: Find the director of each film\n",
    "SELECT director\n",
    "FROM movies;\n",
    "\n",
    "# Task 3: Find the title and director of each film\n",
    "SELECT director, title\n",
    "FROM movies;\n",
    "\n",
    "# Task 4: Find the title and year of each film\n",
    "SELECT title, year\n",
    "FROM movies;\n",
    "\n",
    "# Task 5: Find all the information about each film\n",
    "SELECT * FROM movies;"
   ]
  },
  {
   "cell_type": "code",
   "execution_count": null,
   "id": "aa0f5a9a",
   "metadata": {
    "vscode": {
     "languageId": "shellscript"
    }
   },
   "outputs": [],
   "source": [
    "# SQL Lesson 2: Queries with constraints (Pt. 1)\n",
    "\n",
    "|       Operator      |       Condition                                      |       SQL Example               |\n",
    "| ------------------- | ---------------------------------------------------- | ------------------------------- |\n",
    "| =, !=, <, <=, >, >= | Standard numerical operators                         | `col_name != 4`                 |\n",
    "| BETWEEN … AND …     | Number is within range of two values (inclusive)     | `col_name BETWEEN 1.5 AND 10.5` |\n",
    "| NOT BETWEEN … AND … | Number is not within range of two values (inclusive) | `col_name NOT BETWEEN 1 AND 10` |\n",
    "| IN (…)              | Number exists in a list                              | `col_name IN (2, 4, 6)`         |\n",
    "| NOT IN (…)          | Number does not exist in a list                      | `col_name NOT IN (1, 3, 5)`     |\n",
    "\n",
    "\n",
    "# Task 1:  Find the movie with a row id of 6\n",
    "SELECT *\n",
    "FROM movies\n",
    "    WHERE id = 6;\n",
    "\n",
    "# Task 2: Find the movies release in the year between 2000 and 2010\n",
    "SELECT *\n",
    "FROM movies\n",
    "    WHERE year BETWEEN 2000 AND 2010;\n",
    "\n",
    "# Task 3: Find the movies not released in the years between 2000 and 2010\n",
    "SELECT *\n",
    "FROM movies\n",
    "    WHERE year NOT BETWEEN 2000 AND 2010;\n",
    "\n",
    "# Task 4: Find the first 5 pixar movies and their relase year\n",
    "SELECT title, year\n",
    "FROM movies\n",
    "    LIMIT 5;\n"
   ]
  }
 ],
 "metadata": {
  "kernelspec": {
   "display_name": "Python 3",
   "language": "python",
   "name": "python3"
  },
  "language_info": {
   "codemirror_mode": {
    "name": "ipython",
    "version": 3
   },
   "file_extension": ".py",
   "mimetype": "text/x-python",
   "name": "python",
   "nbconvert_exporter": "python",
   "pygments_lexer": "ipython3",
   "version": "3.13.5"
  }
 },
 "nbformat": 4,
 "nbformat_minor": 5
}
