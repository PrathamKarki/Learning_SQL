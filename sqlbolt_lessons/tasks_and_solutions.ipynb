{
 "cells": [
  {
   "cell_type": "markdown",
   "id": "cdd572cc",
   "metadata": {},
   "source": [
    "SQL BOLT\n",
    "\n",
    "Interactive Tutorial\n",
    "\n",
    "https://sqlbolt.com/\n",
    "\n",
    "Learning SQL with simple, and interactive exercises\n",
    "\n",
    "\n",
    "Table of Contents\n",
    "\n",
    "1. SELECT queries\n",
    "2. Queries with constraints (Pt. 1))\n",
    "3. Queries with constraints (Pt. 2))\n",
    "4. Filtering and sorting Query results\n",
    "5. Simple SELECT Queries Review\n",
    "6. Multi-table queries with JOINs\n",
    "7. OUTER JOINs\n",
    "8. A short note on NULLs\n",
    "9. Queries with expressions\n",
    "10. Queries with aggregates (Pt. 1))\n",
    "11. Queries with aggregates (Pt. 2))\n",
    "12. Order of execution of a Query\n",
    "13. Inserting rows\n",
    "14. Updating rows\n",
    "15. Deleting rows\n",
    "16. Creating tables\n",
    "17. Altering tables\n",
    "18. Dropping tables\n",
    "19. Subqueries\n",
    "20. Unions, Intersections & Exceptions\n",
    "\n",
    "\n",
    "\n"
   ]
  },
  {
   "cell_type": "code",
   "execution_count": null,
   "id": "c9e0f58c",
   "metadata": {
    "vscode": {
     "languageId": "shellscript"
    }
   },
   "outputs": [],
   "source": [
    "\n",
    "# SQL Lesson 1: SELECT QUERIES \n",
    "# EXERCISE 1 -- Tasks\n",
    "\n",
    "\n",
    "# Task 1: Find the title of each movie\n",
    "SELECT title FROM movies;\n",
    "\n",
    "# Task 2: Find the director of each film\n",
    "SELECT director\n",
    "FROM movies;\n",
    "\n",
    "# Task 3: Find the title and director of each film\n",
    "SELECT director, title\n",
    "FROM movies;\n",
    "\n",
    "# Task 4: Find the title and year of each film\n",
    "SELECT title, year\n",
    "FROM movies;\n",
    "\n",
    "# Task 5: Find all the information about each film\n",
    "SELECT * FROM movies;"
   ]
  },
  {
   "cell_type": "code",
   "execution_count": null,
   "id": "aa0f5a9a",
   "metadata": {
    "vscode": {
     "languageId": "shellscript"
    }
   },
   "outputs": [],
   "source": [
    "# SQL Lesson 2: Queries with constraints (Pt. 1)\n",
    "# EXERCISE 2 -- Tasks\n",
    "\n",
    "|       Operator      |       Condition                                      |       SQL Example               |\n",
    "| ------------------- | ---------------------------------------------------- | ------------------------------- |\n",
    "| =, !=, <, <=, >, >= | Standard numerical operators                         | `col_name != 4`                 |\n",
    "| BETWEEN … AND …     | Number is within range of two values (inclusive)     | `col_name BETWEEN 1.5 AND 10.5` |\n",
    "| NOT BETWEEN … AND … | Number is not within range of two values (inclusive) | `col_name NOT BETWEEN 1 AND 10` |\n",
    "| IN (…)              | Number exists in a list                              | `col_name IN (2, 4, 6)`         |\n",
    "| NOT IN (…)          | Number does not exist in a list                      | `col_name NOT IN (1, 3, 5)`     |\n",
    "\n",
    "\n",
    "# Task 1:  Find the movie with a row id of 6\n",
    "SELECT *\n",
    "FROM movies\n",
    "    WHERE id = 6;\n",
    "\n",
    "# Task 2: Find the movies release in the year between 2000 and 2010\n",
    "SELECT *\n",
    "FROM movies\n",
    "    WHERE year BETWEEN 2000 AND 2010;\n",
    "\n",
    "# Task 3: Find the movies not released in the years between 2000 and 2010\n",
    "SELECT *\n",
    "FROM movies\n",
    "    WHERE year NOT BETWEEN 2000 AND 2010;\n",
    "\n",
    "# Task 4: Find the first 5 pixar movies and their relase year\n",
    "SELECT title, year\n",
    "FROM movies\n",
    "    LIMIT 5;\n"
   ]
  },
  {
   "cell_type": "code",
   "execution_count": null,
   "id": "ba70bd70",
   "metadata": {
    "vscode": {
     "languageId": "shellscript"
    }
   },
   "outputs": [],
   "source": [
    "# SQL Lesson 3: Queries with constraints (Pt. 2)\n",
    "# EXERCISE 3 --- Tasks\n",
    "\n",
    "\n",
    "|     Operator | Condition                                            |   SQL Example                     |\n",
    "| ------------ | ---------------------------------------------------- | --------------------------------- |\n",
    "| =            | Case sensitive exact string comparison               | `col_name = \"abc\"`                |\n",
    "| != or < >    | Case sensitive exact string inequality comparison    | `col_name != \"abcd\"`              |\n",
    "| LIKE         | Case insensitive exact string comparison             | `col_name LIKE \"ABC\"`             |\n",
    "| NOT LIKE     | Case insensitive exact string inequality comparison  | `col_name NOT LIKE \"ABCD\"`        |\n",
    "| %            | Matches zero or more characters (with LIKE/NOT LIKE) | `col_name LIKE \"%AT%\"`            |\n",
    "| _            | Matches exactly one character (with LIKE/NOT LIKE)   | `col_name LIKE \"AN_\"`             |\n",
    "| IN (…)       | String exists in a list                              | `col_name IN (\"A\", \"B\", \"C\")`     |\n",
    "| NOT IN (…)   | String does not exist in a list                      | `col_name NOT IN (\"D\", \"E\", \"F\")` |\n",
    "\n",
    "\n",
    "# Task 1: Find all the Toy Story movies\n",
    "SELECT *\n",
    "FROM movies\n",
    "    WHERE title LIKE 'Toy Story%';\n",
    "\n",
    "# Task 2: Find all the movies directed by John Lasseter\n",
    "SELECT *\n",
    "FROM movies\n",
    "    WHERE Director = 'John Lasseter';\n",
    "\n",
    "# Task 3: Find all the movies (and director) not directed by John Lasseter\n",
    "SELECT Title, Director\n",
    "FROM movies\n",
    "    WHERE Director != 'John Lasseter';\n",
    "\n",
    "# Task 4: Find all the WALL-* movies\n",
    "SELECT *\n",
    "FROM movies\n",
    "    WHERE Title LIKE 'WALL-_';"
   ]
  },
  {
   "cell_type": "code",
   "execution_count": null,
   "id": "0b608b6d",
   "metadata": {
    "vscode": {
     "languageId": "shellscript"
    }
   },
   "outputs": [],
   "source": [
    "# SQL LESSON 4: Filtering and sorting Query results\n",
    "# EXERCISE 4 -- Tasks\n",
    "\n",
    "\n",
    "# Task 1: List all directors of Pixar movies (alphabetically), without duplicates\n",
    "SELECT DISTINCT Director\n",
    "    FROM movies\n",
    "    ORDER BY Director;\n",
    "\n",
    "# Task 2: List the last four Pixar movies released (ordered from most recent to least)\n",
    "SELECT *\n",
    "    FROM movies\n",
    "    ORDER BY year DESC\n",
    "    LIMIT 4 OFFSET 4;\n",
    "\n",
    "# Task 3: List the first five Pixar movies sorted alphabetically \n",
    "SELECT * \n",
    "    FROM movies\n",
    "    ORDER BY Title ASC\n",
    "    LIMIT 5;\n",
    "\n",
    "# Task 4: List the next five Pixar movies sorted alphabetically\n",
    "SELECT *\n",
    "    FROM movies\n",
    "    ORDER BY Title ASC\n",
    "    LIMIT 5 OFFSET 5;\n"
   ]
  },
  {
   "cell_type": "code",
   "execution_count": null,
   "id": "4f0bd17f",
   "metadata": {
    "vscode": {
     "languageId": "shellscript"
    }
   },
   "outputs": [],
   "source": [
    "# SQL Reviews: Simple SELECT Queries\n",
    "\n",
    "# Review Task 1: List all the Canadian cities and their populations\n",
    "SELECT City, Population \n",
    "FROM North_american_cities\n",
    "    WHERE Country = 'Canada';\n",
    "\n",
    "# Review Task 2: Order all the cities in the United States by their latitude from north to south\n",
    "SELECT City\n",
    "FROM North_american_cities\n",
    "    WHERE Country LIKE 'United S%s'\n",
    "    ORDER BY Latitude DESC;\n",
    "\n",
    "# Review Task 3: List all the cities west of Chicago, ordered from west to east\n",
    "SELECT City\n",
    "FROM North_american_citites\n",
    "    WHERE Longitude < -87.629798\n",
    "ORDER BY Longitude;\n",
    "\n",
    "# Review Task 4: List the two largest cities in Mexico (by population)\n",
    "SELECT City\n",
    "FROM North_american_cities\n",
    "    WHERE Country = \"Mexico\"\n",
    "    ORDER BY Population DESC\n",
    "    LIMIT 2;\n",
    "\n",
    "# Review Task 5: List the third and fourth largest cities (by population)\n",
    "# in the United States and their population\n",
    "SELECT City, Population\n",
    "FROM North_american_cities\n",
    "    WHERE Country = 'United States'\n",
    "    ORDER BY Population DESC\n",
    "    LIMIT 2 OFFSET 2;\n"
   ]
  },
  {
   "cell_type": "code",
   "execution_count": null,
   "id": "9b184315",
   "metadata": {
    "vscode": {
     "languageId": "shellscript"
    }
   },
   "outputs": [],
   "source": [
    "# SQL LESSON 6: Multi-table qureis with JOINs\n",
    "# EXERCISE 6 -- Tasks\n",
    "\n",
    "\n",
    "#Task 1: Find the domestic and international sales for each movie\n",
    "SELECT Title, Domestic_sales, International_sales\n",
    "FROM Movies\n",
    "    INNER JOIN BoxOffice\n",
    "    ON Movies.Id = BoxOffice.Movie_id;\n",
    "\n",
    "#Task 2: Show the sales numbers for each movie that did better internationally rather than domestically\n",
    "SELECT Title, Domestic_sales, International_sales\n",
    "FROM Movies\n",
    "    INNER JOIN BoxOffice\n",
    "    ON Movies.Id = BoxOffice.Movie_id\n",
    "    WHERE BoxOffice.International_sales > BoxOffice.Domestic_sales;\n",
    "\n",
    "# Tasl 3: List all movies by their ratings in descending order\n",
    "SELECT Title, Rating\n",
    "FROM Movies\n",
    "    INNER JOIN BoxOffice\n",
    "    ON Movies.id = BoxOffice.movie_id\n",
    "    ORDER BY BoxOffice.Rating DESC;"
   ]
  },
  {
   "cell_type": "code",
   "execution_count": null,
   "id": "962b1744",
   "metadata": {
    "vscode": {
     "languageId": "shellscript"
    }
   },
   "outputs": [],
   "source": [
    "# SQL LESSON 7: OUTER JOINs\n",
    "# EXERCISE 7 -- Tasks\n",
    "\n",
    "\n",
    "# Task 1: Find the list of all buildings that have employees\n",
    "SELECT DISTINCT Building_name\n",
    "    FROM buildings\n",
    "    INNER JOIN employees\n",
    "    ON buildings.building_name = employees.building\n",
    "\n",
    "\n",
    "# Task 2: Find the list of all buildings and their capacity\n",
    "SELECT  DISTINCT Building_name, capacity\n",
    "    FROM  buildings \n",
    "    LEFT JOIN employees\n",
    "    ON buildings.building_name = employees.building;\n",
    "\n",
    "# Task 3: List all buildings and the distinct employee roles in each building (including empty buildings)\n",
    "SELECT DISTINCT building_name, role \n",
    "FROM buildings \n",
    "  LEFT JOIN employees\n",
    "    ON buildings.building_name = employees.building;"
   ]
  },
  {
   "cell_type": "code",
   "execution_count": null,
   "id": "ee2899f2",
   "metadata": {
    "vscode": {
     "languageId": "shellscript"
    }
   },
   "outputs": [],
   "source": [
    "# SQL Lesson 8: A short note on NULLs\n",
    "# EXERCISE 8 -- Tasks\n",
    "\n",
    "    # NULL means no values / missing values or unknown values\n",
    "    # It is not same as 0 or empty string ''\n",
    "    # we cannot check it with = or != \n",
    "\n",
    "# Task 1: Find the name and role of all the employees who have not been assigned to a building\n",
    "SELECT Name, Role\n",
    "FROM Employees\n",
    "    WHERE building IS NULL;\n",
    "\n",
    "# Task 2: Find the names of the buildings that hold no employees\n",
    "SELECT Building_name, Name\n",
    "FROM Buildings\n",
    "    LEFT JOIN Employees\n",
    "    ON Buildings.Building_name = Employees.Building\n",
    "    WHERE Employees.Name IS NULL;\n"
   ]
  },
  {
   "cell_type": "code",
   "execution_count": null,
   "id": "352c4384",
   "metadata": {
    "vscode": {
     "languageId": "shellscript"
    }
   },
   "outputs": [],
   "source": [
    "# SQL LESSON 9: Queries with expression\n",
    "# Exercise 9 -- Tasks\n",
    "\n",
    "    # Expression let us transform or calculate column values with quering\n",
    "    # Can include arithmetic operations, string operations or functions\n",
    "    # Arithmetic `Salary * 1.10 --> increase salary by 10%`\n",
    "    # function slike UPPER(name), LOWER(name), round, sum and more\n",
    "\n",
    "\n",
    "# Task 1: List all movies and their combined sales in millions of dollars\n",
    "SELECT Title, (Domestic_sales + international_sales)/ 1000000 AS combined_sales\n",
    "    FROM Movies\n",
    "    LEFT JOIN BoxOffice\n",
    "    ON Movies.id = BoxOffice.movie_id;\n",
    "\n",
    "\n",
    "# Task 2: List all movies and their ratings in percent\n",
    "SELECT Title, (Rating * 10) AS rating_percent\n",
    "    FROM Movies\n",
    "    LEFT JOIN BoxOffice\n",
    "    ON Movies.id = BoxOffice.movie_id;\n",
    "\n",
    "# Task 3: List all movies that were released on even number years\n",
    "SELECT Title\n",
    "FROM Movies\n",
    "    WHERE year % 2 = 0;"
   ]
  },
  {
   "cell_type": "code",
   "execution_count": null,
   "id": "7dbf8770",
   "metadata": {
    "vscode": {
     "languageId": "shellscript"
    }
   },
   "outputs": [],
   "source": [
    "# SQL Lesson 10: Queries with aggregates (Pt. 1)\n",
    "# Exercise 10 -- Tasks\n",
    "\n",
    "# Here are some common aggregate functions that we are going to use in our examples:\n",
    "| Function                    | Description                                                                                                   |\n",
    "| --------------------------- | ------------------------------------------------------------------------------------------------------------- |\n",
    "| `COUNT(*)`, `COUNT(column)` | Counts the number of rows in the group. If a column is specified, counts only non-NULL values in that column. |\n",
    "| `MIN(column)`               | Finds the smallest numerical value in the specified column for all rows in the group.                         |\n",
    "| `MAX(column)`               | Finds the largest numerical value in the specified column for all rows in the group.                          |\n",
    "| `AVG(column)`               | Finds the average numerical value in the specified column for all rows in the group.                          |\n",
    "| `SUM(column)`               | Finds the sum of all numerical values in the specified column for the rows in the group.                      |\n",
    "\n",
    "# Task 1: Find the longest time that an employee has been at the studio \n",
    "SELECT MAX(Years_employed)\n",
    "FROM Employees;\n",
    "\n",
    "# Task 2: For each role, find the average number of years employed by employees in that role\n",
    "SELECT Role, AVG(Years_employed)\n",
    "    FROM Employees\n",
    "    GROUP BY Role;\n",
    "\n",
    "# Task 3: Find the total number of employee years worked in each building\n",
    "SELECT Building, SUM(Years_employed)\n",
    "FROM Employees\n",
    "GROUP BY Building;"
   ]
  },
  {
   "cell_type": "code",
   "execution_count": null,
   "id": "04534aaa",
   "metadata": {
    "vscode": {
     "languageId": "shellscript"
    }
   },
   "outputs": [],
   "source": [
    "# SQL Lesson 11: Queries with aggregates (Pt.2)\n",
    "# Exercise 11 -- Tasks\n",
    "\n",
    "\n",
    "# Task 1: Find the number of Artists in the studio (without a HAVING clause)\n",
    "SELECT COUNT(Name) AS Artists\n",
    "FROM Employees\n",
    "WHERE Role = 'Artist';\n",
    "\n",
    "# Task 2: Find the number of Employees of each role in the studio\n",
    "SELECT COUNT(Name) AS No_of_employees, Role\n",
    "FROM Employees\n",
    "GROUP BY total_emp , Role\n",
    "\n",
    "# Task 3: Find the total number of years employed by all Engineers\n",
    "SELECT role, SUM(Years_employed)\n",
    "    FROM Employees\n",
    "    GROUP BY role\n",
    "    HAVING role = 'Engineer';"
   ]
  },
  {
   "cell_type": "code",
   "execution_count": null,
   "id": "434a9f5f",
   "metadata": {
    "vscode": {
     "languageId": "shellscript"
    }
   },
   "outputs": [],
   "source": [
    "# SQL Lesson 12: Order of execution of a query\n",
    "# Exercise 12 -- Tasks\n",
    "\n",
    "# Execution order (what actually happens):\n",
    "    # FROM & JOIN → prepare dataset\n",
    "    # WHERE → filter rows\n",
    "    # GROUP BY → group rows\n",
    "    # HAVING → filter groups\n",
    "    # SELECT → pick/compute columns\n",
    "    # DISTINCT → remove duplicates\n",
    "    # ORDER BY → sort results\n",
    "    # LIMIT / OFFSET → return final rows\n",
    "\n",
    "# Task 1: Find the number of movies each director has directed\n",
    "SELECT Director, COUNT(Title) AS Movies\n",
    "    FROM Movies\n",
    "    GROUP BY Director\n",
    "    ORDER BY Director;\n",
    "\n",
    "# Task 2: Find the total domestic and international sales that can be attributed to each director\n",
    "SELECT Director, SUM(Domestic_sales + international_sales) AS Total_sales\n",
    "    FROM Movies\n",
    "    INNer JOIN  boxoffice\n",
    "    ON Movies.id = boxoffice.movie_id\n",
    "    GROUP BY Movies.Director;\n"
   ]
  },
  {
   "cell_type": "code",
   "execution_count": null,
   "id": "4bc4a6d6",
   "metadata": {
    "vscode": {
     "languageId": "shellscript"
    }
   },
   "outputs": [],
   "source": [
    "# SQL Lesson 13: Inserting rows\n",
    "# Exercise 13 -- Tasks\n",
    "\n",
    "# Task 1: add the studio's new production, Toy Story 4 to the list of movies \n",
    "INSERT INTO Movies(Id, Title, Director, Year, Length_minutes)\n",
    "    VALUES (4, 'Toy Story 4', 'John Lasseter', 2002, 98);\n",
    "\n",
    "# Task 2: Toy Story 4 has been released to critical acclaim! It had a rating of 8.7, and made 340 million domestically and 270 million internationally. \n",
    "# Add the record to the BoxOffice table.\n",
    "INSERT INTO BoxOffice\n",
    "    VALUES (4, 8.7,  250000000, 270000000);"
   ]
  },
  {
   "cell_type": "code",
   "execution_count": null,
   "id": "3217f4e0",
   "metadata": {
    "vscode": {
     "languageId": "shellscript"
    }
   },
   "outputs": [],
   "source": [
    "# SQL Lesson 14: Updating rows\n",
    "# Exercise 14 -- Tasks\n",
    "\n",
    "# Task 1: The director for A Bug's Life is incorrect, it was actually directed by John Lasseter\n",
    "UPDATE  Movies\n",
    "    SET Director = 'John Lasseter'\n",
    "    WHERE title  = 'A Bugs Life';\n",
    "\n",
    "# Task 2: The year that Toy Story 2 was released is incorrect, it was actually released in 1999\n",
    "UPDATE Movies\n",
    "    SET Year = 1999\n",
    "    WHERE title LIKE 'Toy%2';\n",
    "\n",
    "# Task 3: Both the title and director for Toy Story 8 is incorrect! \n",
    "# The title should be \"Toy Story 3\" and it was directed by Lee Unkrich\n",
    "\n",
    "UPDATE  Movies\n",
    "SET title = 'Toy Story 3', director = \"Lee Unkrich\"\n",
    "WHERE id = 11;\n"
   ]
  },
  {
   "cell_type": "code",
   "execution_count": null,
   "id": "3324e19d",
   "metadata": {
    "vscode": {
     "languageId": "shellscript"
    }
   },
   "outputs": [],
   "source": [
    "# SQL Lesson 15: Deleting rows\n",
    "# Exercise 15 -- Tasks\n",
    "\n",
    "# Task 1: This database is getting too big, lets remove all movies that were released before 2005\n",
    "DELETE FROM Movies\n",
    "WHERE Year < 2005;\n",
    "\n",
    "# Task 2: Andrew Stanton has also left the studio, so please remove all movies directed by him.\n",
    "DELETE FROM Movies\n",
    "WHERE Director = 'Andrew Stanton';"
   ]
  },
  {
   "cell_type": "code",
   "execution_count": null,
   "id": "ac47fbe5",
   "metadata": {
    "vscode": {
     "languageId": "shellscript"
    }
   },
   "outputs": [],
   "source": [
    "# SQL Lesson 16: Creating tables\n",
    "# Exercise 16 -- Tasks\n",
    "\n",
    "# Task 1 Create a new table named Database with the following columns:\n",
    "   `Name A string (text) describing the name of the database\n",
    "    Version A number (floating point) of the latest version of this database\n",
    "    Download_count An integer count of the number of times this database was downloaded`\n",
    "    \n",
    "CREATE TABLE Database(\n",
    "Name TEXT,\n",
    "Version FLOAT,\n",
    "Download_count INTEGER\n",
    ");"
   ]
  },
  {
   "cell_type": "code",
   "execution_count": null,
   "id": "4261c9e6",
   "metadata": {
    "vscode": {
     "languageId": "shellscript"
    }
   },
   "outputs": [],
   "source": [
    "# SQL Lesson 17: Altering tables\n",
    "# Exercise 17 -- Tasks\n",
    "\n",
    "# Task 1: Add a column named Aspect_ratio with a FLOAT data type to store \n",
    "# the aspect-ratio each movie was released in. \n",
    "ALTER TABLE Movies\n",
    "ADD Aspect_ratio FLOAT;\n",
    "\n",
    "# Task 2: Add another column named Language with a TEXT data type to store the language that the movie was released in.\n",
    "# Ensure that the default for this language is English.\n",
    "ALTER TABLE Movies\n",
    "  ADD COLUMN Language TEXT DEFAULT \"English\";"
   ]
  },
  {
   "cell_type": "code",
   "execution_count": null,
   "id": "14d2812c",
   "metadata": {
    "vscode": {
     "languageId": "shellscript"
    }
   },
   "outputs": [],
   "source": [
    "# SQL Lesson 18: Dropping tables\n",
    "# Exercise 18 -- Tasks\n",
    "\n",
    "# Task 1: delete the movies table\n",
    "DROP TABLE IF EXISTS Movies\n",
    "\n",
    "# Task 2: delte the boxoffice table\n",
    "DROP TABLE IF EXISTS BoxOffice;"
   ]
  }
 ],
 "metadata": {
  "kernelspec": {
   "display_name": "Python 3",
   "language": "python",
   "name": "python3"
  },
  "language_info": {
   "codemirror_mode": {
    "name": "ipython",
    "version": 3
   },
   "file_extension": ".py",
   "mimetype": "text/x-python",
   "name": "python",
   "nbconvert_exporter": "python",
   "pygments_lexer": "ipython3",
   "version": "3.13.5"
  }
 },
 "nbformat": 4,
 "nbformat_minor": 5
}
