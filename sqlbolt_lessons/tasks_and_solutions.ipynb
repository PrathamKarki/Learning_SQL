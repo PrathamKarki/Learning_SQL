{
 "cells": [
  {
   "cell_type": "markdown",
   "id": "cdd572cc",
   "metadata": {},
   "source": [
    "SQL BOLT\n",
    "\n",
    "Interactive Tutorial\n",
    "\n",
    "https://sqlbolt.com/\n",
    "\n",
    "Learning SQL with simple, and interactive exercises\n",
    "\n",
    "\n",
    "Table of Contents\n",
    "\n",
    "1. SELECT queries\n",
    "2. Queries with constraints (Pt. 1))\n",
    "3. Queries with constraints (Pt. 2))\n",
    "4. Filtering and sorting Query results\n",
    "5. Simple SELECT Queries Review\n",
    "6. Multi-table queries with JOINs\n",
    "7. OUTER JOINs\n",
    "8. A short note on NULLs\n",
    "9. Queries with expressions\n",
    "10. Queries with aggregates (Pt. 1))\n",
    "11. Queries with aggregates (Pt. 2))\n",
    "12. Order of execution of a Query\n",
    "13. Inserting rows\n",
    "14. Updating rows\n",
    "15. Deleting rows\n",
    "16. Creating tables\n",
    "17. Altering tables\n",
    "18. Dropping tables\n",
    "19. Subqueries\n",
    "20. Unions, Intersections & Exceptions\n"
   ]
  },
  {
   "cell_type": "code",
   "execution_count": null,
   "id": "c9e0f58c",
   "metadata": {
    "vscode": {
     "languageId": "shellscript"
    }
   },
   "outputs": [],
   "source": [
    "\n",
    "# SQL Lesson 1: SELECT QUERIES \n",
    "# Task 1: Find the title of each movie\n",
    "SELECT title FROM movies;\n",
    "\n",
    "# Task 2: Find the director of each film\n",
    "SELECT director\n",
    "FROM movies;\n",
    "\n",
    "# Task 3: Find the title and director of each film\n",
    "SELECT director, title\n",
    "FROM movies;\n",
    "\n",
    "# Task 4: Find the title and year of each film\n",
    "SELECT title, year\n",
    "FROM movies;\n",
    "\n",
    "# Task 5: Find all the information about each film\n",
    "SELECT * FROM movies;"
   ]
  }
 ],
 "metadata": {
  "kernelspec": {
   "display_name": "Python 3",
   "language": "python",
   "name": "python3"
  },
  "language_info": {
   "codemirror_mode": {
    "name": "ipython",
    "version": 3
   },
   "file_extension": ".py",
   "mimetype": "text/x-python",
   "name": "python",
   "nbconvert_exporter": "python",
   "pygments_lexer": "ipython3",
   "version": "3.13.5"
  }
 },
 "nbformat": 4,
 "nbformat_minor": 5
}
