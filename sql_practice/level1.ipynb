{
 "cells": [
  {
   "cell_type": "code",
   "execution_count": null,
   "id": "24096426",
   "metadata": {
    "vscode": {
     "languageId": "shellscript"
    }
   },
   "outputs": [],
   "source": [
    "##  question 1: Create a table called students with columns of\n",
    "# studentID, Name, Age and Department \n",
    "\n",
    "CREATE TABLE Students (\n",
    "    StudentID INT,\n",
    "    Name VARCHAR(50),\n",
    "    Age INT,\n",
    "    Department VARCHAR(30)\n",
    ")"
   ]
  },
  {
   "cell_type": "code",
   "execution_count": null,
   "id": "b04a89b8",
   "metadata": {
    "vscode": {
     "languageId": "shellscript"
    }
   },
   "outputs": [],
   "source": [
    "## Question 2. Insert 4 studnets into the student table\n",
    "INSERT INTO Students (StudentID, Name, Age, Department)\n",
    "VALUES (101, 'Alice', 20, 'Science');\n",
    "\n",
    "INSERT INTO Students (StudentID, Name, Age, Department)\n",
    "VALUES (102, 'Bob', 21, 'Commerce');\n",
    "\n",
    "INSERT INT0 Students (StudentID, Name, Age, Department)\n",
    "VALUES (103, 'Charlie', 20, 'Science');\n",
    "\n",
    "INSERT INTO Students (StudentID, Name, Age, Department)\n",
    "VALUES (104, 'David', 22, 'Arts');"
   ]
  },
  {
   "cell_type": "code",
   "execution_count": null,
   "id": "333b98e2",
   "metadata": {
    "vscode": {
     "languageId": "shellscript"
    }
   },
   "outputs": [],
   "source": [
    "## question 3. query to show all studnets in the table\n",
    "\n",
    "SELECT * FROM Students;"
   ]
  },
  {
   "cell_type": "code",
   "execution_count": null,
   "id": "f49eee00",
   "metadata": {
    "vscode": {
     "languageId": "shellscript"
    }
   },
   "outputs": [],
   "source": [
    "## question 4. write query to find all distince department from student table\n",
    "\n",
    "SELECT DISTINCT Department \n",
    "FROM Students;"
   ]
  },
  {
   "cell_type": "code",
   "execution_count": null,
   "id": "9ea83fe1",
   "metadata": {
    "vscode": {
     "languageId": "shellscript"
    }
   },
   "outputs": [],
   "source": [
    "## Question 6: Add new column called Email of type varchar(100)\n",
    "\n",
    "ALTER TABLE Students\n",
    "ADD COLUMN Email VARCHAR(100);"
   ]
  },
  {
   "cell_type": "code",
   "execution_count": null,
   "id": "24fa1191",
   "metadata": {
    "vscode": {
     "languageId": "shellscript"
    }
   },
   "outputs": [],
   "source": [
    "## question 7: Insert with Partial Columns\n",
    "\n",
    "INSERT INTO Students (StudentID, Name)\n",
    "VALUES (105, 'Eve');"
   ]
  },
  {
   "cell_type": "code",
   "execution_count": null,
   "id": "be1f7607",
   "metadata": {
    "vscode": {
     "languageId": "shellscript"
    }
   },
   "outputs": [],
   "source": [
    "## question 8: Create table called Employees\n",
    "## insert data into employees\n",
    "## select all employees\n",
    "## update salary\n",
    "## alter table (add colum called email with varchar type)\n",
    "\n",
    "CREATE TABLE Employees(\n",
    "    EmployeeID INT,\n",
    "    Name VARCHAR(50),\n",
    "    Position VARCHAR(30),\n",
    "    Salary INT\n",
    ");\n",
    "\n",
    "\n",
    "# insert all the values in rows in table\n",
    "INSERT INTO Employees (EmployeeID, Name, Position, Salary)\n",
    "VALUES (201, 'John Doe', 'Manager', 50000);\n",
    "\n",
    "INSERT INTO Employees (EmployeeID, Name, Position, Salary)\n",
    "VALUES (202, 'Jane Smith', 'Analyst', 40000);\n",
    "\n",
    "INSERT INTO Employees (EmployeeID, Name, Position, Salary)\n",
    "VALUES (203, 'Mark lee', 'Developer', 455000);\n",
    "\n",
    "\n",
    "# selecting all the employees\n",
    "SELECT * FROM Employees;\n",
    "\n",
    "#update salary of mark to new value\n",
    "UPDATE Employees\n",
    "SET Salary = 50000\n",
    "WHERE Name LIKE 'Mark%';\n",
    "\n",
    "\n",
    "# Alter table \n",
    "ALTER TABLE Employees\n",
    "ADD COLUMN Email VARCHAR(100);\n",
    "\n",
    " \n",
    "\n",
    "\n",
    "\n",
    "\n"
   ]
  }
 ],
 "metadata": {
  "language_info": {
   "name": "python"
  }
 },
 "nbformat": 4,
 "nbformat_minor": 5
}
