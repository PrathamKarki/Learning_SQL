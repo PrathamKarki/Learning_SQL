{
 "cells": [
  {
   "cell_type": "code",
   "execution_count": null,
   "id": "7489a7e6",
   "metadata": {
    "vscode": {
     "languageId": "shellscript"
    }
   },
   "outputs": [],
   "source": [
    "# Practice question for INNER JOINS and OUTER JOINS\n",
    "\n",
    "\n",
    "# Table: Employees\n",
    "\n",
    "| emp\\_id | emp\\_name | dept\\_id |\n",
    "| ------- | --------- | -------- |\n",
    "| 1       | Alice     | 10       |\n",
    "| 2       | Bob       | 20       |\n",
    "| 3       | Charlie   | 10       |\n",
    "| 4       | David     | NULL     |\n",
    "| 5       | Eve       | 30       |\n",
    "\n",
    "# Table: Departments\n",
    "\n",
    "| dept\\_id | dept\\_name  |\n",
    "| -------- | ----------- |\n",
    "| 10       | HR          |\n",
    "| 20       | Engineering |\n",
    "| 40       | Marketing   |\n"
   ]
  },
  {
   "cell_type": "code",
   "execution_count": null,
   "id": "516fdc49",
   "metadata": {
    "vscode": {
     "languageId": "sql"
    }
   },
   "outputs": [],
   "source": [
    "/*\n",
    "1) Write a query to list all employees with their department names. \n",
    "   Only include employees who belong to a department listed in the Departments table\n",
    "2) Write a query to list all employees with their department names.\n",
    "   Include all employees, even if they don’t belong to any department (show department name as NULL if no match).\n",
    "3) Write a query to list all departments along with their employees. \n",
    "   Include all departments, even if no employee belongs to them (show employee details as NULL if no match).\n",
    "4) Write query to list employees who belong to the 'HR' department\n",
    "5) Write query to find all employees who don't belong to any department (i.e department is null)\n",
    "*/"
   ]
  },
  {
   "cell_type": "code",
   "execution_count": null,
   "id": "3bc98ed9",
   "metadata": {
    "vscode": {
     "languageId": "sql"
    }
   },
   "outputs": [],
   "source": [
    "/* 1 solution */\n",
    "SELECT Employees.emp_name,\n",
    "Departments.dept_name\n",
    "FROM Employees\n",
    "INNER JOIN Departments \n",
    "    ON Employees.dept_id = Departments.dept_id;"
   ]
  },
  {
   "cell_type": "code",
   "execution_count": null,
   "id": "10d1a758",
   "metadata": {
    "vscode": {
     "languageId": "sql"
    }
   },
   "outputs": [],
   "source": [
    "\n",
    "/* 2 solution */\n",
    "\n",
    "SELECT Employees.emp_name,\n",
    "Departments.dept_name\n",
    "FROM Employees \n",
    "LEFT JOIN Departments\n",
    "    ON Employees.dept_id = Departments.dept_id;"
   ]
  },
  {
   "cell_type": "code",
   "execution_count": null,
   "id": "8f66c6c1",
   "metadata": {
    "vscode": {
     "languageId": "sql"
    }
   },
   "outputs": [],
   "source": [
    "/* 3 solution */\n",
    "\n",
    "SELECT Employees.emp_name,\n",
    "Departments.dept_name\n",
    "FROM Employees\n",
    "RIGHT JOIN Departments\n",
    "    ON Employees.dept_id = Departments.dept_id;"
   ]
  },
  {
   "cell_type": "code",
   "execution_count": null,
   "id": "514cc9b7",
   "metadata": {
    "vscode": {
     "languageId": "sql"
    }
   },
   "outputs": [],
   "source": [
    "/* 4 solution */\n",
    "    SELECT Employees.emp_name AS employees,\n",
    "    Departments.dept_name  AS  department \n",
    "    FROM Employees\n",
    "    INNER JOIN Departments\n",
    "        ON Employees.dept_id = Departments.dept_id\n",
    "    GROUP BY  Employees.emp_name, Departments.dept_name\n",
    "    WHERE Departments.dept_name = 'HR';\n"
   ]
  },
  {
   "cell_type": "code",
   "execution_count": null,
   "id": "d3563ed4",
   "metadata": {
    "vscode": {
     "languageId": "sql"
    }
   },
   "outputs": [],
   "source": [
    "/* 5 solution */\n",
    "SELECT Employees.emp_name AS employees,\n",
    "Departments.dept_name AS department\n",
    "FROM Employees\n",
    "LEFT JOIN Departments\n",
    "ON  Employees.dept_id = Departments.dept_id\n",
    "WHERE Departments.dept_id  IS NULL;"
   ]
  }
 ],
 "metadata": {
  "kernelspec": {
   "display_name": "Python 3",
   "language": "python",
   "name": "python3"
  },
  "language_info": {
   "codemirror_mode": {
    "name": "ipython",
    "version": 3
   },
   "file_extension": ".py",
   "mimetype": "text/x-python",
   "name": "python",
   "nbconvert_exporter": "python",
   "pygments_lexer": "ipython3",
   "version": "3.13.5"
  }
 },
 "nbformat": 4,
 "nbformat_minor": 5
}
