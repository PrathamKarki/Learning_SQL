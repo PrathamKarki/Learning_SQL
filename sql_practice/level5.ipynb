{
 "cells": [
  {
   "cell_type": "code",
   "execution_count": null,
   "id": "6ab9bbd6",
   "metadata": {
    "vscode": {
     "languageId": "sql"
    }
   },
   "outputs": [],
   "source": [
    "/*\n",
    " Practice lesson 5: Aggregate functions with Grouping\n",
    "\n",
    " SAMPLE TABLE: employees\n",
    "\n",
    " | emp_id | name         | department_id | salary | hire_date   |\n",
    "| ------- | ------------ | -------------- | ------ | ---------- |\n",
    "| 1       | Alice Smith  | 101            | 60000  | 2019-01-15 |\n",
    "| 2       | Bob Johnson  | 101            | 70000  | 2018-07-20 |\n",
    "| 3       | Carol Miller | 102            | 50000  | 2020-02-10 |\n",
    "| 4       | Dave Brown   | 103            | 45000  | 2021-03-12 |\n",
    "| 5       | Eva Davis    | 102            | 52000  | 2019-11-03 |\n",
    "| 6       | Frank White  | 104            | 80000  | 2017-06-01 |\n",
    "\n",
    "\n",
    "SAMPLE TABLE: department\n",
    "\n",
    "| department_id  | department_name  |\n",
    "| -------------- | ---------------- |\n",
    "| 101            | Engineering      |\n",
    "| 102            | Sales            |\n",
    "| 103            | Marketing        |\n",
    "| 104            | HR               |\n",
    "\n",
    "\n",
    "SAMPLE TABLE: projects\n",
    "\n",
    "| project_id | emp_id   | project_name     | hours_worked  |\n",
    "| ----------- | ------- | ---------------- | ------------- |\n",
    "| 1           | 1       | Website Redesign | 30            |\n",
    "| 2           | 1       | API Integration  | 45            |\n",
    "| 3           | 2       | Website Redesign | 40            |\n",
    "| 4           | 3       | Product Launch   | 50            |\n",
    "| 5           | 4       | Marketing Blitz  | 20            |\n",
    "| 6           | 5       | Sales Campaign   | 55            |\n",
    "| 7           | 6       | HR Onboarding    | 60            |\n",
    "\n",
    "\n",
    "PROBLEMS:\n",
    "1. Show Total salary per department\n",
    "2. Departments with more than 1 employee\n",
    "3. Average salary in each department, ordered descending\n",
    "4. List employee IDs who are working on more than one project.\n",
    "5. Department with total salary > 100000\n",
    "6. Employee total project hours\n",
    "7. Average salary per department\n",
    "*/\n"
   ]
  },
  {
   "cell_type": "code",
   "execution_count": null,
   "id": "735608cc",
   "metadata": {
    "vscode": {
     "languageId": "shellscript"
    }
   },
   "outputs": [],
   "source": [
    "# show total salary per department \n",
    "\n",
    "SELECT department_id, \n",
    "SUM(salary) AS total_salary\n",
    "FROM  employees\n",
    "GROUP BY department_id;\n",
    "\n",
    "# Department with more than 1 employee\n",
    "\n",
    "SELECT department_id,\n",
    "COUNT(*) AS no_of_employee\n",
    "FROM employees\n",
    "GROUP BY department_id\n",
    "HAVING  COUNT(*) > 1;\n",
    "\n",
    "# Average salary in each department, ordered descending\n",
    "SELECT department_id, \n",
    "AVG(salary) AS average_salary\n",
    "FROM employees\n",
    "GROUP BY department_id\n",
    "ORDER BY average_salary DESC;\n",
    "\n",
    "# List employee IDs who are working on more than one project\n",
    "SELECT emp_id,\n",
    "COUNT(project_name) AS no_of_working_project\n",
    "FROM projects\n",
    "GROUP BY emp_id\n",
    "HAVING COUNT(project_name) > 1;\n",
    "\n",
    "# Department with total salary > 100000\n",
    "SELECT department_id,\n",
    "SUM(salary) AS total_salary\n",
    "FROM employees\n",
    "GROUP BY department_id\n",
    "HAVING SUM(salary) > 100000;\n",
    "\n",
    "# employee total project hours\n",
    "SELECT emp_id,\n",
    "SUM(hours_worked) AS total_hours\n",
    "FROM projects\n",
    "GROUP BY emp_id;\n",
    "\n",
    "#  Average salary per department\n",
    "SELECT department_id,\n",
    "AVG(salary) AS above_avg_salary\n",
    "FROM employees\n",
    "GROUP BY 1;"
   ]
  }
 ],
 "metadata": {
  "kernelspec": {
   "display_name": "Python 3",
   "language": "python",
   "name": "python3"
  },
  "language_info": {
   "codemirror_mode": {
    "name": "ipython",
    "version": 3
   },
   "file_extension": ".py",
   "mimetype": "text/x-python",
   "name": "python",
   "nbconvert_exporter": "python",
   "pygments_lexer": "ipython3",
   "version": "3.13.5"
  }
 },
 "nbformat": 4,
 "nbformat_minor": 5
}
