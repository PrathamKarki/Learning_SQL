{
 "cells": [
  {
   "cell_type": "markdown",
   "id": "4e70e49e",
   "metadata": {},
   "source": [
    "Introduction to SELECT Basics in SQLZoo\n",
    "\n",
    "TABLE: world\n",
    "This is just  a sample example table to take it as reference to solve below SELECT problems\n",
    "\n",
    "| name        | continent | area    | population | gdp          |\n",
    "| ----------- | --------- | ------- | ---------- | ------------ |\n",
    "| germany     | Europe    | 652230  | 25500100   | 20343000000  |\n",
    "| Albania     | Europe    | 28748   | 2831741    | 12960000000  |\n",
    "| Algeria     | Africa    | 2381741 | 37100000   | 188681000000 |\n",
    "| Andorra     | Europe    | 468     | 78115      | 3712000000   |\n",
    "| Angola      | Africa    | 1246700 | 20609294   | 100990000000 |\n"
   ]
  },
  {
   "cell_type": "code",
   "execution_count": null,
   "id": "c1decce8",
   "metadata": {
    "vscode": {
     "languageId": "shellscript"
    }
   },
   "outputs": [],
   "source": [
    "# Select population of germany\n",
    "SELECT * \n",
    "FROM world\n",
    "WHERE name = 'germany';\n",
    "\n",
    "# Check a list using 'IN' to check if an item is in a list\n",
    "# Show the name and the population for 'Sweden', 'Norway' and 'Denmark'\n",
    "\n",
    "SELECT name, population\n",
    "FROM world\n",
    "WHERE name IN ('Sweden', 'Norway', 'Denmark');\n",
    "\n",
    "# Show the country  and the area for countries  between 200,000 and 250,000\n",
    "SELECT name, area\n",
    "FROM world\n",
    "WHERE area BETWEEN 200,000 AND 250,000;"
   ]
  },
  {
   "cell_type": "markdown",
   "id": "92efb050",
   "metadata": {},
   "source": [
    "SELECT  FROM World Exercises\n",
    "\n",
    "Sample table: World\n",
    "\n",
    "| name        | continent | area    | population | gdp             |\n",
    "| ----------- | --------- | ------- | ---------- | --------------- |\n",
    "| Afghanistan | Asia      | 652230  | 25,500,100 | 20,343,000,000  |\n",
    "| Albania     | Europe    | 28748   | 2,831,741  | 12,960,000,000  |\n",
    "| Algeria     | Africa    | 2381741 | 37,100,000 | 188,681,000,000 |\n",
    "| Andorra     | Europe    | 468     | 78,115     | 3,712,000,000   |\n",
    "| Angola      | Africa    | 1246700 | 20,609,294 | 100,990,000,000 |\n",
    "\n"
   ]
  },
  {
   "cell_type": "code",
   "execution_count": null,
   "id": "a28817db",
   "metadata": {
    "vscode": {
     "languageId": "shellscript"
    }
   },
   "outputs": [],
   "source": [
    "# show the name, continent and population of all countries.\n",
    "\n",
    "SELECT name, continent, population \n",
    "FROM World;\n",
    "\n",
    "# Show name for countries that have population at least 200 million (8 zeros)\n",
    "SELECT name\n",
    "FROM World\n",
    "    WHERE population >= 200000000;\n",
    "\n",
    "# Show the name and population in millions for the countries of the continent 'South America'.\n",
    "# Divide the population by 1000000 to get population in millions.\n",
    "SELECT name, population/1000000\n",
    "FROM world\n",
    "WHERE continent = 'South America';\n",
    "\n",
    "# PER CAPITA GDP\n",
    "# Give name and per capita GDP for those countries with population at least 200 million\n",
    "# Hint: to calucalate per capita GDP , = gdp/ population\n",
    "SELECT name,\n",
    "     gdp/population AS per_capita_gdp\n",
    "     FROM world\n",
    "     WHERE population >= 200000000;\n",
    "\n",
    "# SOUTH AMERICA IN MILLIONS\n",
    "# Show name and population in millions for the countires of continent 'South America'\n",
    "# Divide population by 1000000 to get population in millions\n",
    "SELECT name, \n",
    "        population/1000000  AS pop_in_million\n",
    "        WHERE continent = 'South America';\n",
    "\n",
    "\n",
    "# France, Germany, Italy\n",
    "# Show the name and population for France, Germany , Italy\n",
    "SELECT name, population\n",
    "FROM world\n",
    "WHERE name IN ('France', 'Germany', 'Italy');\n",
    "\n",
    "\n",
    "# UNITED\n",
    "# Show countries which have a name that includes the word 'United'\n",
    "SELECT name\n",
    "FROM world\n",
    "WHERE name LIKE '%United%';\n",
    "\n",
    "\n",
    "# TWO WAYS TO BE BIG\n",
    "#Show the countires that are big by area or big by population. Show name , population and area\n",
    "\n",
    "SELECT name, population, area\n",
    "FROM world\n",
    "WHERE area > 3000000 OR population > 250000000;\n",
    "\n",
    "\n",
    "# EXCLUSIVE OR (XOR) - One or the other (but not both)\n",
    "\n"
   ]
  }
 ],
 "metadata": {
  "language_info": {
   "name": "python"
  }
 },
 "nbformat": 4,
 "nbformat_minor": 5
}
