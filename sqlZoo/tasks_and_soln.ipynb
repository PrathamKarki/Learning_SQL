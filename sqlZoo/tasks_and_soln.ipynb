{
 "cells": [
  {
   "cell_type": "markdown",
   "id": "4e70e49e",
   "metadata": {},
   "source": [
    "Introduction to SELECT Basics in SQLZoo\n",
    "\n",
    "TABLE: world\n",
    "This is just  a sample example table to take it as reference to solve below SELECT problems\n",
    "\n",
    "| name        | continent | area    | population | gdp          |\n",
    "| ----------- | --------- | ------- | ---------- | ------------ |\n",
    "| germany     | Europe    | 652230  | 25500100   | 20343000000  |\n",
    "| Albania     | Europe    | 28748   | 2831741    | 12960000000  |\n",
    "| Algeria     | Africa    | 2381741 | 37100000   | 188681000000 |\n",
    "| Andorra     | Europe    | 468     | 78115      | 3712000000   |\n",
    "| Angola      | Africa    | 1246700 | 20609294   | 100990000000 |\n"
   ]
  },
  {
   "cell_type": "code",
   "execution_count": null,
   "id": "c1decce8",
   "metadata": {
    "vscode": {
     "languageId": "shellscript"
    }
   },
   "outputs": [],
   "source": [
    "# Select population of germany\n",
    "SELECT * \n",
    "FROM world\n",
    "WHERE name = 'germany';\n",
    "\n",
    "# Check a list using 'IN' to check if an item is in a list\n",
    "# Show the name and the population for 'Sweden', 'Norway' and 'Denmark'\n",
    "\n",
    "SELECT name, population\n",
    "FROM world\n",
    "WHERE name IN ('Sweden', 'Norway', 'Denmark');\n",
    "\n",
    "# Show the country  and the area for countries  between 200,000 and 250,000\n",
    "SELECT name, area\n",
    "FROM world\n",
    "WHERE area BETWEEN 200,000 AND 250,000;"
   ]
  }
 ],
 "metadata": {
  "language_info": {
   "name": "python"
  }
 },
 "nbformat": 4,
 "nbformat_minor": 5
}
