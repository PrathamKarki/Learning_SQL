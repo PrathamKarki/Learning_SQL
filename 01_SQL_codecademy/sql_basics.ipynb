{
 "cells": [
  {
   "cell_type": "raw",
   "id": "7d5df8c5-ef49-47e3-8c73-f91d43e18e61",
   "metadata": {
    "vscode": {
     "languageId": "python"
    }
   },
   "source": [
    "SQL (structued query language), is a programming language that is used to manage data stored in the \n",
    "relational database. It enables us to create, update, read, delete often referred as CRUD opearation in the Database.\n",
    "\n",
    "Some SQL commands"
   ]
  }
 ],
 "metadata": {
  "kernelspec": {
   "display_name": "Python 3 (ipykernel)",
   "language": "python",
   "name": "python3"
  },
  "language_info": {
   "codemirror_mode": {
    "name": "ipython",
    "version": 3
   },
   "file_extension": ".py",
   "mimetype": "text/x-python",
   "name": "python",
   "nbconvert_exporter": "python",
   "pygments_lexer": "ipython3",
   "version": "3.13.5"
  }
 },
 "nbformat": 4,
 "nbformat_minor": 5
}
