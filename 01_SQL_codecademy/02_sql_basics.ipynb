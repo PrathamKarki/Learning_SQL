{
 "cells": [
  {
   "cell_type": "code",
   "execution_count": null,
   "id": "21def094",
   "metadata": {
    "vscode": {
     "languageId": "shellscript"
    }
   },
   "outputs": [],
   "source": [
    "# DELETE FROM (delete one or more rows from existing table)\n",
    "    # DELETE FROM is clause that lets you delete rows from table\n",
    "    # celebs is name of table we want to delte rows\n",
    "    # WHERE is clause let u select rows you want to delte\n",
    "    # IS NULL is condition is sql , that return true when value is NULL\n",
    "\n",
    "DELETE FROM celebs\n",
    "WHERE twitter_handle IS NULL;\n",
    "\n",
    "SELECT * FROM celebs;\n"
   ]
  }
 ],
 "metadata": {
  "language_info": {
   "name": "python"
  }
 },
 "nbformat": 4,
 "nbformat_minor": 5
}
