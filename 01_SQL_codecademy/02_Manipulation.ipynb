{
 "cells": [
  {
   "cell_type": "code",
   "execution_count": null,
   "id": "21def094",
   "metadata": {
    "vscode": {
     "languageId": "shellscript"
    }
   },
   "outputs": [],
   "source": [
    "# DELETE FROM (delete one or more rows from existing table)\n",
    "    # DELETE FROM is clause that lets you delete rows from table\n",
    "    # celebs is name of table we want to delte rows\n",
    "    # WHERE is clause let u select rows you want to delte\n",
    "    # IS NULL is condition is sql , that return true when value is NULL\n",
    "\n",
    "DELETE FROM celebs\n",
    "WHERE twitter_handle IS NULL;\n",
    "\n",
    "SELECT * FROM celebs;\n"
   ]
  },
  {
   "cell_type": "code",
   "execution_count": null,
   "id": "0de1a35a",
   "metadata": {
    "vscode": {
     "languageId": "shellscript"
    }
   },
   "outputs": [],
   "source": [
    "# Constraints in sql.\n",
    " # used to add additional information to column in table so database stop wrong or bad data from being saved after specifying datatypes \n",
    "  # eg:  id --> PRIMARY KEY (each celebs has a different id)\n",
    "  #      name --> UNIQUE (no two celebs with same name allowed)\n",
    "  #      age  --> NOT NULL (you must give value)\n",
    "  #      country -->  DEFAULT 'USA' (If you don't specify it automatically fill usa)\n",
    "\n",
    "  CREATE Table celebs (\n",
    "    id INTEGER PRIMARY KEY,\n",
    "    name TEXT UNIQUE,\n",
    "    age  INTEGER NOT NULL,\n",
    "    country TEXT DEFAULT 'USA'\n",
    "  )\n",
    "\n",
    "  SELECT * FROM celebs;"
   ]
  }
 ],
 "metadata": {
  "language_info": {
   "name": "python"
  }
 },
 "nbformat": 4,
 "nbformat_minor": 5
}
