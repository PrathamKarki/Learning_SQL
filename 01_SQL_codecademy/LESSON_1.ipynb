{
 "cells": [
  {
   "cell_type": "code",
   "execution_count": null,
   "id": "7d5df8c5-ef49-47e3-8c73-f91d43e18e61",
   "metadata": {
    "vscode": {
     "languageId": "shellscript"
    }
   },
   "outputs": [],
   "source": [
    "# LESSON 1: INTRODUCTION TO SQL"
   ]
  },
  {
   "cell_type": "code",
   "execution_count": null,
   "id": "1b5b84e5-61f8-4da4-8397-cb6435f82bd6",
   "metadata": {
    "vscode": {
     "languageId": "shellscript"
    }
   },
   "outputs": [],
   "source": [
    "# SELECT statement: used to select information from the table called celebs\n",
    "# SELECT is clause that indicates that statement in query meaning you fetch data .\n",
    "SELECT * FROM celebs;\n"
   ]
  },
  {
   "cell_type": "code",
   "execution_count": null,
   "id": "e286a408-d2a5-4d7b-9b78-e77700ddc37b",
   "metadata": {
    "vscode": {
     "languageId": "shellscript"
    }
   },
   "outputs": [],
   "source": [
    "# CREATE statements: allows us to create new table in the database below in the example\n",
    "CREATE TABLE celebs(\n",
    "    id INTEGER,\n",
    "    name TEXT,\n",
    "    age INTEGER,\n",
    ");"
   ]
  },
  {
   "cell_type": "code",
   "execution_count": null,
   "id": "80b43126-c800-4f5b-b7e1-d7b5ad40c271",
   "metadata": {
    "vscode": {
     "languageId": "shellscript"
    }
   },
   "outputs": [],
   "source": [
    "# first we create table then insert value into as row\n",
    "# INSERT INTO: used to insert values in rows\n",
    "\n",
    "CREATE TABLE celebs(\n",
    "    id INTEGER,\n",
    "    name, TEXT,\n",
    "    age, INTEGER,\n",
    ");\n",
    "\n",
    "INSERT INTO celebs ( id, name, age)\n",
    "VALUES ( 1, 'Mo Salah', 33);\n",
    "\n",
    "INSERT INTO celebs ( id, name, age)\n",
    "VALUES ( 2, 'Alexander isak', 25);\n",
    "\n",
    "INSERT INTO celebs ( id, name, age)\n",
    "VALUES ( 3, ' Kylian mbappe', 26);\n"
   ]
  },
  {
   "cell_type": "code",
   "execution_count": null,
   "id": "84aede0f",
   "metadata": {
    "vscode": {
     "languageId": "shellscript"
    }
   },
   "outputs": [],
   "source": [
    "# using SELECT to retrieve all the column called name  in the celebs \n",
    "SELECT name FROM celebs;"
   ]
  },
  {
   "cell_type": "code",
   "execution_count": null,
   "id": "248dae54-0561-4b6c-a35f-ef2c7b9d6795",
   "metadata": {
    "vscode": {
     "languageId": "shellscript"
    }
   },
   "outputs": [],
   "source": [
    "# ALTER in sql: used to add new column to the table,\n",
    "# here, alter table is a clause, which makes specific changes\n",
    "#celebs is name of the table where we want to make specific change\n",
    "# add column is clause let lets you add new column to table\n",
    "# twitter_handles is the name of the row and TEXT refers to datatype of the new column.\n",
    "ALTER TABLE celebs\n",
    "ADD COLUMN twitter_handler TEXT;"
   ]
  },
  {
   "cell_type": "code",
   "execution_count": null,
   "id": "5ba5cc5d",
   "metadata": {
    "vscode": {
     "languageId": "shellscript"
    }
   },
   "outputs": [],
   "source": [
    "# UPDATE in sql: used to edit row in table. we use update when we want to change exisiting records\n",
    "\n",
    "UPDATE celebs\n",
    "SET twitter_handler = '@moSalah'\n",
    "WHERE id = 1;\n",
    "\n",
    "# UPDATE is a clause that edits row in table\n",
    "# celebs in name of table\n",
    "# SET is clause that indicates the column to edit\n",
    "# twitter_handler is name of column where new value is going to be inserted\n",
    "# WHERE clause indicate  which row to update with new column value\n"
   ]
  },
  {
   "cell_type": "code",
   "execution_count": null,
   "id": "f25654a6",
   "metadata": {
    "vscode": {
     "languageId": "shellscript"
    }
   },
   "outputs": [],
   "source": [
    "# DELETE FROM (delete one or more rows from existing table)\n",
    "    # DELETE FROM is clause that lets you delete rows from table\n",
    "    # celebs is name of table we want to delte rows\n",
    "    # WHERE is clause let u select rows you want to delte\n",
    "    # IS NULL is condition is sql , that return true when value is NULL\n",
    "\n",
    "DELETE FROM celebs\n",
    "WHERE twitter_handle IS NULL;\n",
    "\n",
    "SELECT * FROM celebs;\n"
   ]
  },
  {
   "cell_type": "code",
   "execution_count": null,
   "id": "d4558ee9",
   "metadata": {
    "vscode": {
     "languageId": "shellscript"
    }
   },
   "outputs": [],
   "source": [
    "# Constraints in sql.\n",
    " # used to add additional information to column in table so database stop wrong or bad data from being saved after specifying datatypes \n",
    "  # eg:  id --> PRIMARY KEY (each celebs has a different id)\n",
    "  #      name --> UNIQUE (no two celebs with same name allowed)\n",
    "  #      age  --> NOT NULL (you must give value)\n",
    "  #      country -->  DEFAULT 'USA' (If you don't specify it automatically fill usa)\n",
    "\n",
    "  CREATE Table celebs (\n",
    "    id INTEGER PRIMARY KEY,\n",
    "    name TEXT UNIQUE,\n",
    "    age  INTEGER NOT NULL,\n",
    "    country TEXT DEFAULT 'USA'\n",
    "  )\n",
    "\n",
    "  SELECT * FROM celebs;"
   ]
  }
 ],
 "metadata": {
  "kernelspec": {
   "display_name": "Python 3",
   "language": "python",
   "name": "python3"
  },
  "language_info": {
   "codemirror_mode": {
    "name": "ipython",
    "version": 3
   },
   "file_extension": ".py",
   "mimetype": "text/x-python",
   "name": "python",
   "nbconvert_exporter": "python",
   "pygments_lexer": "ipython3",
   "version": "3.13.5"
  }
 },
 "nbformat": 4,
 "nbformat_minor": 5
}
