{
 "cells": [
  {
   "cell_type": "code",
   "execution_count": null,
   "id": "f7847809",
   "metadata": {
    "vscode": {
     "languageId": "shellscript"
    }
   },
   "outputs": [],
   "source": [
    "# LESSON 4: MULTIPLE TABLES\n",
    "# This lesson will help us work with data that is stored in multiple tables"
   ]
  },
  {
   "cell_type": "code",
   "execution_count": null,
   "id": "0aea05a7",
   "metadata": {
    "vscode": {
     "languageId": "shellscript"
    }
   },
   "outputs": [],
   "source": [
    "# SQL gives us an easy way to combine tables: it’s called a JOIN.\n",
    "# When we perform a simple JOIN (often called an inner join) \n",
    "# our result only includes rows that match our ON condition.\n",
    "\n",
    "## joins allow us to common two or more tables if they have a common column\n",
    "## doesn't mean column name should be same but the data should be\n",
    "## INNER JOIN (return rows that are same in both column from table)\n",
    "\n",
    "SELECT *\n",
    "FROM table_1\n",
    "JOIN table_2\n",
    "ON table_1.customer_id = table_2.customer_id;\n",
    "\n",
    "# if we only wanted to select orders table order_id column and customer table's customer_name \n",
    "# we could use the following query\n",
    "SELECT orders.order_id,\n",
    "customer.customer_name\n",
    "FROM orders\n",
    "JOIN customers ON orders.customer_id = customer.customer_id;\n",
    "\n",
    "\n",
    "# Join orders table and subscriptions table and select all columns.\n",
    "# Make sure to join on the subscription_id column \n",
    "# where description is equal to ‘Fashion Magazine’..\n",
    "\n",
    "SELECT *\n",
    "FROM orders\n",
    "JOIN subscriptions\n",
    "ON orders.subscription_id = subscriptions.subscription_id\n",
    "WHERE \n",
    "    description = 'Fashion Magazine';\n",
    "\n",
    "# count the number of subscribers of both services\n",
    "SELECT \n",
    "  COUNT(*) AS subscribers_of_both \n",
    "FROM \n",
    "  newspaper \n",
    "  JOIN online ON newspaper.id = online.id;\n"
   ]
  },
  {
   "cell_type": "code",
   "execution_count": null,
   "id": "43e704b8",
   "metadata": {
    "vscode": {
     "languageId": "shellscript"
    }
   },
   "outputs": [],
   "source": [
    "# LEFT JOIN\n",
    "\n",
    "-- OUTER JOINS\n",
    "-- two types LEFT JOIN and RIGHT JOIN\n",
    "-- left join takes everything from the left table even if there is no match in join and then only return matches from right table\n",
    "\n",
    "-- right join  take everything from right but only match on left table\n",
    "\n",
    "\n",
    "\n",
    "## LEFT JOIN:\n",
    "-- Returns all rows from the LEFT table, \n",
    "-- and the matching rows from the RIGHT table.\n",
    "-- If there is no match in the RIGHT table, \n",
    "-- the result will include NULLs for columns from the RIGHT table.\n",
    "\n",
    "## RIGHT JOIN:\n",
    "-- Returns all rows from the RIGHT table,\n",
    "-- and the matching rows from the LEFT table.\n",
    "-- If there is no match in the LEFT table,\n",
    "-- the result will include NULLs for columns from the LEFT table.\n",
    "\n",
    "\n",
    "# which users do not subscribe to the online edition\n",
    "# (add where clause)\n",
    "SELECT \n",
    "  * \n",
    "FROM \n",
    "  newspaper \n",
    "  LEFT JOIN online ON newspaper.id = online.id \n",
    "WHERE \n",
    "  online.id IS NULL;\n"
   ]
  },
  {
   "cell_type": "code",
   "execution_count": null,
   "id": "2df0c324",
   "metadata": {
    "vscode": {
     "languageId": "shellscript"
    }
   },
   "outputs": [],
   "source": [
    "#PRIMARY KEY IN SQL */\n",
    "# Primary keys have the following requirements \n",
    "# -- None of the values can be NULL\n",
    "#-- Each value must be unique\n",
    "#-- A table cannot have more than one primary key column"
   ]
  },
  {
   "cell_type": "code",
   "execution_count": null,
   "id": "8d22d94c",
   "metadata": {
    "vscode": {
     "languageId": "shellscript"
    }
   },
   "outputs": [],
   "source": [
    "# FOREIGN KEYS\n",
    "# When the primary key of one table eg: order_id of orders table appreas in subscription table,\n",
    "# it becomes foreign key in subscription table\n",
    "\n",
    "\n",
    "\n",
    "# For example, an _id is a primary key when it appears in classes, \n",
    "# but it will be a foreign key with a name class_id when it appears in students.\n",
    "SELECT *\n",
    "FROM classes\n",
    "JOIN students\n",
    "ON classes.id = students.class_id;"
   ]
  },
  {
   "cell_type": "code",
   "execution_count": null,
   "id": "443c27c1",
   "metadata": {
    "vscode": {
     "languageId": "shellscript"
    }
   },
   "outputs": [],
   "source": []
  }
 ],
 "metadata": {
  "kernelspec": {
   "display_name": "Python 3",
   "language": "python",
   "name": "python3"
  },
  "language_info": {
   "codemirror_mode": {
    "name": "ipython",
    "version": 3
   },
   "file_extension": ".py",
   "mimetype": "text/x-python",
   "name": "python",
   "nbconvert_exporter": "python",
   "pygments_lexer": "ipython3",
   "version": "3.13.5"
  }
 },
 "nbformat": 4,
 "nbformat_minor": 5
}
