{
 "cells": [
  {
   "cell_type": "raw",
   "id": "749a6bc2",
   "metadata": {
    "vscode": {
     "languageId": "raw"
    }
   },
   "source": [
    "# LESSON 3: 'AGGREGATE FUNCTIONS IN SQL'\n",
    "SQL Queries is not only used for accessing raw data but also used for performing specific calculations"
   ]
  },
  {
   "cell_type": "code",
   "execution_count": null,
   "id": "4975e3e4",
   "metadata": {
    "vscode": {
     "languageId": "shellscript"
    }
   },
   "outputs": [],
   "source": [
    "# Here are the quick preview of topics to cover\n",
    "\n",
    "# -- COUNT() --> count number of rows\n",
    "# -- SUM()   --> summ of values in column   \n",
    "# -- MAX()/MIN() --> largest/smallest value in column\n",
    "# -- AVG() -->      average of values in column\n",
    "# -- ROUND() -->    round of values in the column"
   ]
  },
  {
   "cell_type": "code",
   "execution_count": null,
   "id": "d502f876",
   "metadata": {
    "vscode": {
     "languageId": "shellscript"
    }
   },
   "outputs": [],
   "source": [
    "# COUNT\n",
    "# -- fastest way to calcuate how many rows are in table\n",
    "# -- COUNT() function takes number of column as argument  and count number of non-empty values as column\n",
    "\n",
    "# key points\n",
    "# COUNT(*) = count all rows with empty values as well,  COUNT(column_name) = count only row where column in not empty\n",
    "\n",
    "\n",
    "# select all the no. of rows with empty values as well\n",
    "SELECT COUNT(*)\n",
    "FROM fake_apps;\n",
    "\n",
    "# count how many free apps are in the table.\n",
    "SELECT \n",
    "    COUNT(*)\n",
    "FROM\n",
    "    fake_apps\n",
    "WHERE \n",
    "    price = 0;\n",
    "\n",
    "# count all no. of total employees\n",
    "SELECT \n",
    "    COUNT(*)\n",
    "FROM employees;\n",
    "\n",
    "# Employee that have department assigned (not null / empty)\n",
    "SELECT \n",
    "    COUNT(Department)\n",
    "FROM employees;\n",
    "\n",
    "# Count total number of orders in rows\n",
    "SELECT \n",
    "    COUNT(*)\n",
    "FROM \n",
    "    orders;\n",
    "\n",
    "# Count how many orders have been delivered\n",
    "SELECT COUNT(Product)\n",
    "    FROM orders\n",
    "WHERE status = 'Delivered';\n",
    "\n",
    "# Count how many orders have been cancelled\n",
    "SELECT COUNT(Product)\n",
    "    FROM orders\n",
    "WHERE \n",
    "    status = 'Cancelled';\n",
    "\n",
    "# Count how many ordres are missing a Status (NULL)\n",
    "SELECT COUNT(*)\n",
    "FROM orders\n",
    "WHERE  status IS NULL;\n",
    "\n",
    "# Count how many orders were placed by John Smith\n",
    "SELECT COUNT(Product)\n",
    "FROM orders\n",
    "WHERE customerName LIKE 'John%';"
   ]
  },
  {
   "cell_type": "code",
   "execution_count": null,
   "id": "dcae60f0",
   "metadata": {
    "vscode": {
     "languageId": "shellscript"
    }
   },
   "outputs": [],
   "source": [
    "# SUM()\n",
    "# -- takes name of column as argument and returns sum of all values in that column (ignores null values );\n",
    "# -- It adds up all the values in the specified column.\n",
    "# -- NULL values are ignored automatically.\n",
    "# -- You can use a WHERE condition to sum only certain rows.\n",
    "\n",
    "SELECT SUM(downloads)\n",
    "FROM fake_apps;\n",
    "\n",
    "# calcuate total quantity of products sold\n",
    "SELECT SUM(Quantity)\n",
    "FROM\n",
    "   sales;\n",
    "\n",
    "# Calculate total revenue generated from all sales (hint: quantity x PricePerunit)\n",
    "SELECT SUM(Quantity * PricePerUnit) AS Total_revenue\n",
    "FROM sales;\n",
    "\n",
    "\n",
    "# calcualte total quantity sold in electronic category\n",
    "SELECT SUM(Quantity)\n",
    "FROM sales\n",
    "WHERE \n",
    "    Category = 'Electronics';\n",
    "\n",
    "# calculate total quantity sold in furniture category\n",
    "SELECT SUM(Quantity) AS total_furniture_quantity\n",
    "    FROM \n",
    "        sales\n",
    "    WHERE \n",
    "        Category = 'Furniture';\n",
    "\n",
    "# calculate total revenue generated form Electronic category products\n",
    "SELECT SUM(Quantity * PricePerUnit) \n",
    "    AS Total_Electornics_sales\n",
    "    FROM sales\n",
    "    WHERE \n",
    "        Category = 'Electronics';"
   ]
  },
  {
   "cell_type": "code",
   "execution_count": null,
   "id": "131856dc",
   "metadata": {
    "vscode": {
     "languageId": "shellscript"
    }
   },
   "outputs": [],
   "source": [
    "# MIN()/ MAX() Functions in SQL returns the  lowest and highest values in a column\n",
    "# MIN() and MAX() takes columns as arguments and return largest value in that column\n",
    "\n",
    "# How many downloads does the most popular app have?\n",
    "\n",
    "SELECT MAX(downloads)\n",
    "FROM fake_apps;\n",
    "\n",
    "# What is the least number of times an app has been downloaded?\n",
    "SELECT \n",
    "    MIN (downloads)\n",
    "FROM \n",
    "    fake_apps;\n",
    "\n",
    "# Write query that returns price of the most expensive app\n",
    "SELECT  \n",
    "    MAX(price)\n",
    "FROM\n",
    "    fake_apps;\n",
    "\n",
    "# find maximum price of all products\n",
    "SELECT \n",
    "    MIN(price)\n",
    "FROM\n",
    "    products;\n",
    "\n",
    "# find the maximum price of all products\n",
    "SELECT \n",
    "    MAX(price)\n",
    "FROM\n",
    "    products;\n",
    "\n",
    "# find minimum price of products wehre the price is NOT NUll\n",
    "SELECT \n",
    "    MIN(price)\n",
    "FROM \n",
    "    products\n",
    "WHERE price IS NOT NULL;\n",
    "\n",
    "# Find the maximum price of products where the price is less than 600.\n",
    "SELECT \n",
    "    MAX(price)\n",
    "FROM products\n",
    "WHERE price < 600;"
   ]
  },
  {
   "cell_type": "code",
   "execution_count": null,
   "id": "1918c358",
   "metadata": {
    "vscode": {
     "languageId": "shellscript"
    }
   },
   "outputs": [],
   "source": []
  }
 ],
 "metadata": {
  "kernelspec": {
   "display_name": "Python 3",
   "language": "python",
   "name": "python3"
  },
  "language_info": {
   "codemirror_mode": {
    "name": "ipython",
    "version": 3
   },
   "file_extension": ".py",
   "mimetype": "text/x-python",
   "name": "python",
   "nbconvert_exporter": "python",
   "pygments_lexer": "ipython3",
   "version": "3.13.5"
  }
 },
 "nbformat": 4,
 "nbformat_minor": 5
}
