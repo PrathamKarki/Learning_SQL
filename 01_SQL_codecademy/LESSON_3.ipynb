{
 "cells": [
  {
   "cell_type": "code",
   "execution_count": null,
   "id": "749a6bc2",
   "metadata": {
    "vscode": {
     "languageId": "shellscript"
    }
   },
   "outputs": [],
   "source": [
    "# LESSON 3: 'AGGREGATE FUNCTIONS IN SQL'\n",
    "SQL Queries is not only used for accessing raw data but also used for performing specific calculations"
   ]
  },
  {
   "cell_type": "code",
   "execution_count": null,
   "id": "4975e3e4",
   "metadata": {
    "vscode": {
     "languageId": "shellscript"
    }
   },
   "outputs": [],
   "source": [
    "# Here are the quick preview of topics to cover\n",
    "\n",
    "# -- COUNT() --> count number of rows\n",
    "# -- SUM()   --> summ of values in column   \n",
    "# -- MAX()/MIN() --> largest/smallest value in column\n",
    "# -- AVG() -->      average of values in column\n",
    "# -- ROUND() -->    round of values in the column"
   ]
  },
  {
   "cell_type": "code",
   "execution_count": null,
   "id": "d502f876",
   "metadata": {
    "vscode": {
     "languageId": "shellscript"
    }
   },
   "outputs": [],
   "source": [
    "# COUNT\n",
    "# -- fastest way to calcuate how many rows are in table\n",
    "# -- COUNT() function takes number of column as argument  and count number of non-empty values as column\n",
    "\n",
    "# key points\n",
    "# COUNT(*) = count all rows with empty values as well,  COUNT(column_name) = count only row where column in not empty\n",
    "\n",
    "\n",
    "# select all the no. of rows with empty values as well\n",
    "SELECT COUNT(*)\n",
    "FROM fake_apps;\n",
    "\n",
    "# count how many free apps are in the table.\n",
    "SELECT \n",
    "    COUNT(*)\n",
    "FROM\n",
    "    fake_apps\n",
    "WHERE \n",
    "    price = 0;\n",
    "\n",
    "# count all no. of total employees\n",
    "SELECT \n",
    "    COUNT(*)\n",
    "FROM employees;\n",
    "\n",
    "# Employee that have department assigned (not null / empty)\n",
    "SELECT \n",
    "    COUNT(Department)\n",
    "FROM employees;\n",
    "\n",
    "# Count total number of orders in rows\n",
    "SELECT \n",
    "    COUNT(*)\n",
    "FROM \n",
    "    orders;\n",
    "\n",
    "# Count how many orders have been delivered\n",
    "SELECT COUNT(Product)\n",
    "    FROM orders\n",
    "WHERE status = 'Delivered';\n",
    "\n",
    "# Count how many orders have been cancelled\n",
    "SELECT COUNT(Product)\n",
    "    FROM orders\n",
    "WHERE \n",
    "    status = 'Cancelled';\n",
    "\n",
    "# Count how many ordres are missing a Status (NULL)\n",
    "SELECT COUNT(*)\n",
    "FROM orders\n",
    "WHERE  status IS NULL;\n",
    "\n",
    "# Count how many orders were placed by John Smith\n",
    "SELECT COUNT(Product)\n",
    "FROM orders\n",
    "WHERE customerName LIKE 'John%';"
   ]
  },
  {
   "cell_type": "code",
   "execution_count": null,
   "id": "dcae60f0",
   "metadata": {
    "vscode": {
     "languageId": "shellscript"
    }
   },
   "outputs": [],
   "source": [
    "# SUM()\n",
    "# -- takes name of column as argument and returns sum of all values in that column (ignores null values );\n",
    "# -- It adds up all the values in the specified column.\n",
    "# -- NULL values are ignored automatically.\n",
    "# -- You can use a WHERE condition to sum only certain rows.\n",
    "\n",
    "SELECT SUM(downloads)\n",
    "FROM fake_apps;\n",
    "\n",
    "# calcuate total quantity of products sold\n",
    "SELECT SUM(Quantity)\n",
    "FROM\n",
    "   sales;\n",
    "\n",
    "# Calculate total revenue generated from all sales (hint: quantity x PricePerunit)\n",
    "SELECT SUM(Quantity * PricePerUnit) AS Total_revenue\n",
    "FROM sales;\n",
    "\n",
    "\n",
    "# calcualte total quantity sold in electronic category\n",
    "SELECT SUM(Quantity)\n",
    "FROM sales\n",
    "WHERE \n",
    "    Category = 'Electronics';\n",
    "\n",
    "# calculate total quantity sold in furniture category\n",
    "SELECT SUM(Quantity) AS total_furniture_quantity\n",
    "    FROM \n",
    "        sales\n",
    "    WHERE \n",
    "        Category = 'Furniture';\n",
    "\n",
    "# calculate total revenue generated form Electronic category products\n",
    "SELECT SUM(Quantity * PricePerUnit) \n",
    "    AS Total_Electornics_sales\n",
    "    FROM sales\n",
    "    WHERE \n",
    "        Category = 'Electronics';"
   ]
  },
  {
   "cell_type": "code",
   "execution_count": null,
   "id": "131856dc",
   "metadata": {
    "vscode": {
     "languageId": "shellscript"
    }
   },
   "outputs": [],
   "source": [
    "# MIN()/ MAX() Functions in SQL returns the  lowest and highest values in a column\n",
    "# MIN() and MAX() takes columns as arguments and return largest value in that column\n",
    "\n",
    "# How many downloads does the most popular app have?\n",
    "\n",
    "SELECT MAX(downloads)\n",
    "FROM fake_apps;\n",
    "\n",
    "# What is the least number of times an app has been downloaded?\n",
    "SELECT \n",
    "    MIN (downloads)\n",
    "FROM \n",
    "    fake_apps;\n",
    "\n",
    "# Write query that returns price of the most expensive app\n",
    "SELECT  \n",
    "    MAX(price)\n",
    "FROM\n",
    "    fake_apps;\n",
    "\n",
    "# find maximum price of all products\n",
    "SELECT \n",
    "    MIN(price)\n",
    "FROM\n",
    "    products;\n",
    "\n",
    "# find the maximum price of all products\n",
    "SELECT \n",
    "    MAX(price)\n",
    "FROM\n",
    "    products;\n",
    "\n",
    "# find minimum price of products wehre the price is NOT NUll\n",
    "SELECT \n",
    "    MIN(price)\n",
    "FROM \n",
    "    products\n",
    "WHERE price IS NOT NULL;\n",
    "\n",
    "# Find the maximum price of products where the price is less than 600.\n",
    "SELECT \n",
    "    MAX(price)\n",
    "FROM products\n",
    "WHERE price < 600;"
   ]
  },
  {
   "cell_type": "code",
   "execution_count": null,
   "id": "1918c358",
   "metadata": {
    "vscode": {
     "languageId": "shellscript"
    }
   },
   "outputs": [],
   "source": [
    "# Average function in SQL used to calculate average value of particular column. It takes column name as arguments\n",
    "\n",
    "# return average number of downloads for an app\n",
    "SELECT AVG(downloads)\n",
    "FROM   \n",
    "    fake_apps;\n",
    "\n",
    "# return average price of all apps\n",
    "SELECT AVG(price)\n",
    "FROM \n",
    "    fake_apps;\n",
    "\n",
    "# return average salary of all employees \n",
    "SELECT AVG(Salary)\n",
    "FROM employees;\n",
    "\n",
    "# return average salary of all employees in IT department\n",
    "SELECT AVG(Salary)\n",
    "FROM\n",
    "    employees\n",
    "WHERE Department = 'IT';\n",
    "\n",
    "# return average salary of employees not assigned to any department\n",
    "SELECT AVG(Salary)\n",
    "FROM\n",
    "    employees\n",
    "WHERE Department IS  NULL;\n",
    "\n",
    "# return average salary of employee whose salary is greater than 55000\n",
    "SELECT AVG(Salary)\n",
    "FROM\n",
    "    employees\n",
    "WHERE salary > 55000;\n",
    "\n",
    "# return the average salary of employees in HR department\n",
    "SELECT AVG(Salary)\n",
    "FROM employees\n",
    "WHERE Department = 'HR';"
   ]
  },
  {
   "cell_type": "code",
   "execution_count": null,
   "id": "3cef93c6",
   "metadata": {
    "vscode": {
     "languageId": "shellscript"
    }
   },
   "outputs": [],
   "source": [
    "# ROUND() functions takes two arguments column name and an integer\n",
    "# -- It rounds values in column to the number of decimal places specified by integer\n",
    "\n",
    "SELECT ROUND(price, 1)\n",
    "FROM fake_apps;\n",
    "\n",
    "SELECT name, ROUND(price, 0)\n",
    "FROM \n",
    "    fake_apps;\n",
    "\n",
    "SELECT \n",
    "    ROUND\n",
    "        (AVG(price), \n",
    "        2)\n",
    "FROM fake_apps;"
   ]
  },
  {
   "cell_type": "code",
   "execution_count": null,
   "id": "06f5fd59",
   "metadata": {
    "vscode": {
     "languageId": "shellscript"
    }
   },
   "outputs": [],
   "source": [
    "# GROUP BY: clause used in SQL that is used with aggregate function \n",
    "# used in collaboration with SELECT, to arrange identical data\n",
    "# THE GROUP BY clause comes after WHERE clause but before ORDER BY or LIMIT\n",
    "\n",
    "# eg: Suppose we want to know mean of imdb rating for all movies based on different year\n",
    "\n",
    "SELECT year, \n",
    "AVG(imdb_rating)\n",
    "FROM movies\n",
    "GROUP BY year\n",
    "ORDER BY year;\n",
    "\n",
    "# count total number of apps that have been downloaded more than 20,000 times, at each price\n",
    "SELECT price,\n",
    "COUNT(*)\n",
    "FROM \n",
    "    fake_apps\n",
    "WHERE \n",
    "    downloads > 20000\n",
    "GROUP BY\n",
    "price;\n",
    "\n",
    "# calculate total number of downloads for each category \n",
    "SELECT category,\n",
    "SUM(downloads)\n",
    "FROM \n",
    "    fake_apps\n",
    "GROUP BY category;\n",
    "\n",
    "# Count the number of sales made per product\n",
    "SELECT product,\n",
    "COUNT(*)\n",
    "FROM\n",
    "    sales\n",
    "GROUP BY product;\n"
   ]
  },
  {
   "cell_type": "code",
   "execution_count": null,
   "id": "97129058",
   "metadata": {
    "vscode": {
     "languageId": "shellscript"
    }
   },
   "outputs": [],
   "source": [
    "# SQL lets us use column refernces(s) in our GROUP BY that makes our lives easier\n",
    "\n",
    "# we might want to know how many movies have IMDb rating that round to 1,2,3,4,5 \n",
    "# Here, the  1 refers to first column in our SELECT statement, ROUND(imdb_rating)\n",
    "\n",
    "SELECT ROUND(imdb_rating),\n",
    "COUNT(name)\n",
    "FROM moives;\n",
    "GROUP BY 1;\n",
    "ORDER BY 1;\n",
    "\n",
    "\n",
    "SELECT category,\n",
    "price, \n",
    "AVG (downloads)\n",
    "FROM \n",
    "    fake_apps\n",
    "    GROUP BY 1, 2;"
   ]
  },
  {
   "cell_type": "code",
   "execution_count": null,
   "id": "0751819f",
   "metadata": {
    "vscode": {
     "languageId": "shellscript"
    }
   },
   "outputs": [],
   "source": [
    "# HAVING is very similar to WHERE\n",
    "# if fact, all types of WHERE clauses we learnt so far can be used with HAVING\n",
    "\n",
    "# when we want to limit the result of query based on values of individual row \n",
    "# we use WHERE\n",
    "\n",
    "# HAVING statements always come after GROUP BY, but before ORDER BY and LIMIT.\n",
    "\n",
    "SELECT year,\n",
    "genre, COUNT(name)\n",
    "FROM movies\n",
    "GROUP BY 1, 2\n",
    "HAVING COUNT(name) > 10;\n",
    "\n",
    "\n",
    "# Example\n",
    "# It returns the average downloads (rounded) and the number of apps at each price point.\n",
    "# HAVING clause restricts the query to price points that have more than 10 apps.\n",
    "SELECT \n",
    "  price, \n",
    "  ROUND(\n",
    "    AVG(downloads)\n",
    "  ), \n",
    "  COUNT(*) \n",
    "FROM \n",
    "  fake_apps \n",
    "GROUP BY \n",
    "  price \n",
    "HAVING \n",
    "  COUNT(price) > 10;"
   ]
  },
  {
   "cell_type": "code",
   "execution_count": null,
   "id": "b978ee93",
   "metadata": {
    "vscode": {
     "languageId": "shellscript"
    }
   },
   "outputs": [],
   "source": [
    "# LESSON 3 REVIEW:\n",
    "# -- COUNT(): count the number of rows\n",
    "# -- SUM(): the sum of the values in a column\n",
    "# -- MAX()/MIN(): the largest/smallest value\n",
    "# -- AVG(): the average of the values in a column\n",
    "# -- ROUND(): round the values in the column\n",
    "\n",
    "# Aggregate functions combine multiple rows together to form a single value\n",
    "# of more meaningful information:\n",
    "# -- GROUP BY is a clause used with aggregate functions to combine data \n",
    "#    from one or more columns.\n",
    "# -- HAVING limit the results of a query based on an aggregate property."
   ]
  }
 ],
 "metadata": {
  "kernelspec": {
   "display_name": "Python 3",
   "language": "python",
   "name": "python3"
  },
  "language_info": {
   "codemirror_mode": {
    "name": "ipython",
    "version": 3
   },
   "file_extension": ".py",
   "mimetype": "text/x-python",
   "name": "python",
   "nbconvert_exporter": "python",
   "pygments_lexer": "ipython3",
   "version": "3.13.5"
  }
 },
 "nbformat": 4,
 "nbformat_minor": 5
}
