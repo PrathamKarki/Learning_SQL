{
 "cells": [
  {
   "cell_type": "code",
   "execution_count": null,
   "id": "7d5df8c5-ef49-47e3-8c73-f91d43e18e61",
   "metadata": {
    "vscode": {
     "languageId": "shellscript"
    }
   },
   "outputs": [],
   "source": [
    "SQL (structued query language), is a programming language that is used to manage data stored in the \n",
    "relational database. It enables us to create, update, read, delete often referred as CRUD opearation in the Database.\n",
    "\n",
    "Some SQL commands"
   ]
  },
  {
   "cell_type": "code",
   "execution_count": null,
   "id": "1b5b84e5-61f8-4da4-8397-cb6435f82bd6",
   "metadata": {
    "vscode": {
     "languageId": "shellscript"
    }
   },
   "outputs": [],
   "source": [
    "# SELECT statement: used to select information from the table called celebs\n",
    "SELECT * FROM celebs;\n"
   ]
  },
  {
   "cell_type": "code",
   "execution_count": null,
   "id": "e286a408-d2a5-4d7b-9b78-e77700ddc37b",
   "metadata": {
    "vscode": {
     "languageId": "shellscript"
    }
   },
   "outputs": [],
   "source": [
    "# CREATE statements: allows us to create new table in the database below in the example\n",
    "CREATE TABLE celebs(\n",
    "    id INTEGER,\n",
    "    name TEXT,\n",
    "    age INTEGER,\n",
    ");"
   ]
  },
  {
   "cell_type": "code",
   "execution_count": null,
   "id": "80b43126-c800-4f5b-b7e1-d7b5ad40c271",
   "metadata": {},
   "outputs": [],
   "source": [
    "# first we create table then insert value into as row\n",
    "# INSERT INTO: used to insert values in rows\n",
    "\n",
    "CREATE TABLE celebs(\n",
    "    id INTEGER,\n",
    "    name, TEXT,\n",
    "    age, INTEGER,\n",
    ");\n",
    "\n",
    "INSERT INTO celebs ( id, name, age)\n",
    "VALUES ( 1, 'Mo Salah', 33);\n",
    "\n",
    "INSERT INTO celebs ( id, name, age)\n",
    "VALUES ( 2, 'Alexander isak', 25);\n",
    "\n",
    "INSERT INTO celebs ( id, name, age)\n",
    "VALUES ( 3, ' Kylian mbappe', 26);\n"
   ]
  }
 ],
 "metadata": {
  "kernelspec": {
   "display_name": "Python 3 (ipykernel)",
   "language": "python",
   "name": "python3"
  },
  "language_info": {
   "codemirror_mode": {
    "name": "ipython",
    "version": 3
   },
   "file_extension": ".py",
   "mimetype": "text/x-python",
   "name": "python",
   "nbconvert_exporter": "python",
   "pygments_lexer": "ipython3",
   "version": "3.13.5"
  }
 },
 "nbformat": 4,
 "nbformat_minor": 5
}
