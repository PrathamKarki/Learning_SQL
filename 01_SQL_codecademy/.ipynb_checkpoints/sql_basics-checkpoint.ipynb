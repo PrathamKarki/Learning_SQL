{
 "cells": [
  {
   "cell_type": "code",
   "execution_count": null,
   "id": "7d5df8c5-ef49-47e3-8c73-f91d43e18e61",
   "metadata": {
    "vscode": {
     "languageId": "shellscript"
    }
   },
   "outputs": [],
   "source": [
    "SQL (structued query language), is a programming language that is used to manage data stored in the \n",
    "relational database. It enables us to create, update, read, delete often referred as CRUD opearation in the Database.\n",
    "\n",
    "Some SQL commands"
   ]
  },
  {
   "cell_type": "code",
   "execution_count": null,
   "id": "1b5b84e5-61f8-4da4-8397-cb6435f82bd6",
   "metadata": {
    "vscode": {
     "languageId": "shellscript"
    }
   },
   "outputs": [],
   "source": [
    "# SELECT statement: used to select information from the table called celebs\n",
    "# SELECT is clause that indicates that statement in query meaning you fetch data .\n",
    "SELECT * FROM celebs;\n"
   ]
  },
  {
   "cell_type": "code",
   "execution_count": null,
   "id": "e286a408-d2a5-4d7b-9b78-e77700ddc37b",
   "metadata": {
    "vscode": {
     "languageId": "shellscript"
    }
   },
   "outputs": [],
   "source": [
    "# CREATE statements: allows us to create new table in the database below in the example\n",
    "CREATE TABLE celebs(\n",
    "    id INTEGER,\n",
    "    name TEXT,\n",
    "    age INTEGER,\n",
    ");"
   ]
  },
  {
   "cell_type": "code",
   "execution_count": 9,
   "id": "80b43126-c800-4f5b-b7e1-d7b5ad40c271",
   "metadata": {
    "vscode": {
     "languageId": "shellscript"
    }
   },
   "outputs": [
    {
     "ename": "SyntaxError",
     "evalue": "invalid syntax (3185949251.py, line 4)",
     "output_type": "error",
     "traceback": [
      "  \u001b[36mCell\u001b[39m\u001b[36m \u001b[39m\u001b[32mIn[9]\u001b[39m\u001b[32m, line 4\u001b[39m\n\u001b[31m    \u001b[39m\u001b[31mCREATE TABLE celebs(\u001b[39m\n           ^\n\u001b[31mSyntaxError\u001b[39m\u001b[31m:\u001b[39m invalid syntax\n"
     ]
    }
   ],
   "source": [
    "# first we create table then insert value into as row\n",
    "# INSERT INTO: used to insert values in rows\n",
    "\n",
    "CREATE TABLE celebs(\n",
    "    id INTEGER,\n",
    "    name, TEXT,\n",
    "    age, INTEGER,\n",
    ");\n",
    "\n",
    "INSERT INTO celebs ( id, name, age)\n",
    "VALUES ( 1, 'Mo Salah', 33);\n",
    "\n",
    "INSERT INTO celebs ( id, name, age)\n",
    "VALUES ( 2, 'Alexander isak', 25);\n",
    "\n",
    "INSERT INTO celebs ( id, name, age)\n",
    "VALUES ( 3, ' Kylian mbappe', 26);\n"
   ]
  },
  {
   "cell_type": "code",
   "execution_count": null,
   "id": "84aede0f",
   "metadata": {
    "vscode": {
     "languageId": "shellscript"
    }
   },
   "outputs": [],
   "source": [
    "# using SELECT to retrieve all the column called name  in the celebs \n",
    "SELECT name FROM celebs;"
   ]
  },
  {
   "cell_type": "code",
   "execution_count": null,
   "id": "248dae54-0561-4b6c-a35f-ef2c7b9d6795",
   "metadata": {},
   "outputs": [],
   "source": [
    "# ALTER in sql: used to add new column to the table,\n",
    "# here, alter table is a clause, which makes specific changes\n",
    "#celebs is name of the table where we want to make specific change\n",
    "# add column is clause let lets you add new column to table\n",
    "# twitter_handles is the name of the row and TEXT refers to datatype of the new column.\n",
    "ALTER TABLE celebs\n",
    "ADD COLUMN twitter_handler TEXT;"
   ]
  }
 ],
 "metadata": {
  "kernelspec": {
   "display_name": "Python 3 (ipykernel)",
   "language": "python",
   "name": "python3"
  },
  "language_info": {
   "codemirror_mode": {
    "name": "ipython",
    "version": 3
   },
   "file_extension": ".py",
   "mimetype": "text/x-python",
   "name": "python",
   "nbconvert_exporter": "python",
   "pygments_lexer": "ipython3",
   "version": "3.13.5"
  }
 },
 "nbformat": 4,
 "nbformat_minor": 5
}
