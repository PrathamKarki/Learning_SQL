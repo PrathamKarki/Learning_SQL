{
 "cells": [
  {
   "cell_type": "code",
   "execution_count": null,
   "id": "d5efcaac",
   "metadata": {},
   "outputs": [],
   "source": [
    "# LESSON 2: 'QUERIES'"
   ]
  },
  {
   "cell_type": "code",
   "execution_count": null,
   "id": "174fbf41",
   "metadata": {
    "vscode": {
     "languageId": "shellscript"
    }
   },
   "outputs": [],
   "source": [
    "# Quering a database with table named called movies\n",
    "SELECT * FROM movies;\n",
    "\n",
    "# Selecting only some specific column from the database table \n",
    "SELECT name, genre, year\n",
    "FROM movies;\n",
    "\n",
    "# AS in sql: AS also known as alias is used to give temporary name to column or table when querying ( it does not rename actual table but just change label when querying)\n",
    "SELECT name AS 'movieList'\n",
    "FROM movies;\n",
    "\n",
    "SELECT imdb_rating AS 'IMDb'\n",
    "FROM movies;\n",
    "\n",
    "# DISTINCT in sql: used to return unique values from column or table, it filter outs duplicate values from specified column\n",
    "SELECT DISTINCT genre\n",
    "FROM movies;\n",
    "\n",
    "SELECT DISTINCT year\n",
    "FROM movies;\n",
    "\n",
    "# WHERE clause: used to filter result set based on specific condition\n",
    "SELECT * \n",
    "FROM movies\n",
    "WHERE imdb_rating < 5;\n",
    "\n",
    "SELECT *\n",
    "FROM movies\n",
    "WHERE year > 2014;\n",
    "\n",
    "# LIKE: a special operator used  with the WHERE clause to serach for\n",
    "# a specific pattern in a column\n",
    "# eg: suppose we have a movie called Seven and Se7en  so if we want to select movies that start with 'Se' and endst with 'en' and have exaclty one character in middle\n",
    "\n",
    "SELECT *\n",
    "FROM movies\n",
    "WHERE name LIKE 'Se_en';\n"
   ]
  },
  {
   "cell_type": "code",
   "execution_count": null,
   "id": "06827d4f",
   "metadata": {
    "vscode": {
     "languageId": "shellscript"
    }
   },
   "outputs": [],
   "source": [
    "# LIKE with wildcard characters: '%' and '_'\n",
    "# '%' used to match zero, one or more missing characters in pattern  \n",
    "# eg:  A% matches movies with name that begin with letter 'A'\n",
    "#      %a matches all movies ending with a   \n",
    "#      %man% matches movies that contain 'man'\n",
    "\n",
    "SELECT *\n",
    "FROM movies\n",
    "WHERE name LIKE '%man%';\n",
    "\n",
    "SELECT *\n",
    "FROM movies\n",
    "WHERE name LIKE 'The %';"
   ]
  },
  {
   "cell_type": "code",
   "execution_count": null,
   "id": "d51c3dc9",
   "metadata": {
    "vscode": {
     "languageId": "shellscript"
    }
   },
   "outputs": [],
   "source": [
    "# IS NULL \n",
    "# unknown values are indicated by null, It's not possible to test for NULL values with comparison operator,\n",
    "# such as = and !=,\n",
    "# Instead, we will use these operators:  IS NULL ,  IS NOT NULL\n",
    "\n",
    "\n",
    "# filter out name of movies  from movies table with IMDb rating which is not null\n",
    "\n",
    "SELECT name \n",
    "FROM movies\n",
    "WHERE IMDb rating IS NOT NULL;\n",
    "\n",
    "# filter out name of movies from movies table where IMDb rating is null\n",
    "SELECT name\n",
    "FROM movies\n",
    "WHERE IMDb rating IS NULL;\n",
    "\n"
   ]
  },
  {
   "cell_type": "code",
   "execution_count": null,
   "id": "71c3270c",
   "metadata": {
    "vscode": {
     "languageId": "shellscript"
    }
   },
   "outputs": [],
   "source": [
    "# BETWEEN operator is used in WHERE clause to filter result set within certain range\n",
    "# It accepst two values that is either number, text or dates.\n",
    "\n",
    "# Example (Text):\n",
    "# WHERE name BETWEEN 'A' AND 'J';\n",
    "# Includes names from 'A' up to exactly 'J' only. eg: below\n",
    "SELECT *\n",
    "FROM movies\n",
    "WHERE name BETWEEN 'A' AND 'J';\n",
    "# here above Names like 'Ja', 'Jack', 'Joker' are NOT included.\n",
    "\n",
    "\n",
    "# To include names starting with 'J':\n",
    "# Use WHERE name >= 'A' AND name < 'K';\n",
    "# Or use WHERE name LIKE 'J%';\n",
    "\n",
    "\n",
    "# Using the BETWEEN operator, write a query that selects all information \n",
    "# about movies whose name begins with the letters ‘D’, ‘E’, and ‘F’\n",
    "SELECT *\n",
    "FROM movies\n",
    "WHERE name BETWEEN 'D' AND 'G';\n",
    "\n",
    "# Using the BETWEEN operator, write a new query that selects all information about movies that were released from the year 1970 up to and including 1979.\n",
    "SELECT *\n",
    "FROM movies\n",
    "WHERE year BETWEEN 1970 AND 1979;"
   ]
  },
  {
   "cell_type": "code",
   "execution_count": null,
   "id": "be902a53",
   "metadata": {
    "vscode": {
     "languageId": "shellscript"
    }
   },
   "outputs": [],
   "source": [
    "# AND Operator: with and operator both condition must be true for row to be included in result\n",
    "# AND opearator : display a row if all condition is true.\n",
    "SELECT *\n",
    "FROM movies\n",
    "WHERE year BETWEEN 1970 AND 1979\n",
    "AND genre = 'romance'\n",
    "AND imdb_rating > 8;\n",
    "\n",
    "SELECT *\n",
    "FROM movies\n",
    "WHERE year < 1985\n",
    "AND  genre = 'horror';\n"
   ]
  },
  {
   "cell_type": "code",
   "execution_count": null,
   "id": "840c76fa",
   "metadata": {
    "vscode": {
     "languageId": "shellscript"
    }
   },
   "outputs": [],
   "source": [
    "# OR: similar to AND or is used to combine multiple condition with WHERE clause\n",
    "# OR operator displays a row if any condition is true\n",
    "SELECT *\n",
    "FROM movies\n",
    "WHERE year > 2014\n",
    "OR genre = 'action';\n",
    "\n",
    "SELECT *\n",
    "FROM movies\n",
    "WHERE genre = 'romance' \n",
    " OR genre = 'comedy';"
   ]
  },
  {
   "cell_type": "code",
   "execution_count": null,
   "id": "750161f0",
   "metadata": {
    "vscode": {
     "languageId": "shellscript"
    }
   },
   "outputs": [],
   "source": [
    "# ORDER BY: used to sort the results, either alphabetically or numerically\n",
    "\n",
    "# ORDER BY always goes after WHERE (if WHERE is present).\n",
    "\n",
    "# suppose we want to sort everything by movie's title from A to Z\n",
    "SELECT *\n",
    "FROM movies\n",
    "ORDER BY name;\n",
    "\n",
    "# suppose we want to retrieve all the movies  with their ratings sorted highest to lowest by their year\n",
    "# DESC is keyword used in ORDER BY to sort in descending order (high to low  Z-A) \n",
    "# ASC is used to sort in ascending order (low to high A-Z)\n",
    "\n",
    "SELECT *\n",
    "FROM movies\n",
    "WHERE IMDb rating > 8\n",
    " ORDER BY year DESC;\n",
    "\n",
    "\n",
    " # suppose we want to retrieve name and year columns of all movies. orderd by their name alphabetically\n",
    " SELECT name, year\n",
    " FROM movies\n",
    " ORDER BY name;\n",
    "\n",
    " # retrieve name, year and imdb_ratings columns of all the movies, ordered highest to lowest by their ratings\n",
    "\n",
    " SELECT name, year, \n",
    " imdb_rating\n",
    " FROM movies\n",
    " ORDER BY imdb_rating DESC;"
   ]
  },
  {
   "cell_type": "code",
   "execution_count": null,
   "id": "eb0f3eba",
   "metadata": {
    "vscode": {
     "languageId": "shellscript"
    }
   },
   "outputs": [],
   "source": [
    "# LIMIT: lets us specify the maximum no. of rows the result set will have\n",
    "# LIMIT always goes at the very end of the query\n",
    "# not supported in all SQL database\n",
    "\n",
    "# combining my knowledge of LIMIT and ORDER BY, to return top 3 highest rated movies\n",
    "SELECT *\n",
    "FROM movies\n",
    "ORDER BY imdb_rating DESC\n",
    "LIMIT 3;"
   ]
  },
  {
   "cell_type": "code",
   "execution_count": null,
   "id": "094e2b8c",
   "metadata": {
    "vscode": {
     "languageId": "shellscript"
    }
   },
   "outputs": [],
   "source": [
    "# CASE statements allows us to create different outputs\n",
    "# it is SQL way of (if-else logic)\n",
    "\n",
    "# suppose we want to condense rating in movies into three levels\n",
    " # if rating is above 8, then it is fantastic\n",
    " # if rating is above 6, then is Poorly received\n",
    " # else avoid at all cost\n",
    "\n",
    " SELECT name,\n",
    " CASE\n",
    " WHEN imdb_rating > 8 THEN 'Fantastic'\n",
    " WHEN imdb_rating > 6 THEN 'Poorly Received'\n",
    " ELSE 'Avoid at all costs'\n",
    " END \n",
    " FROM movies;\n",
    "\n",
    "\n",
    " # another example\n",
    " SELECT name,\n",
    " CASE\n",
    " WHEN genre = 'romance' OR genre = 'comedy' THEN 'Chill'\n",
    " ELSE 'Intense'\n",
    " END AS 'MOOD'\n",
    " FROM movies;"
   ]
  },
  {
   "cell_type": "code",
   "execution_count": null,
   "id": "7a3348e2",
   "metadata": {
    "vscode": {
     "languageId": "shellscript"
    }
   },
   "outputs": [],
   "source": [
    "# LESSON 2: REVIEW\n",
    "\n",
    "SELECT: Retrieves data from one or more tables.\n",
    "\n",
    "AS: Renames a column or table temporarily using an alias.\n",
    "\n",
    "DISTINCT: Returns only unique (non-duplicate) values.\n",
    "\n",
    "WHERE: Filters rows based on specified conditions.\n",
    "\n",
    "LIKE: Searches for a pattern within a column using wildcards.\n",
    "\n",
    "BETWEEN: Filters data within a specific inclusive range.\n",
    "\n",
    "AND / OR: Combines multiple conditions in a WHERE clause.\n",
    "\n",
    "ORDER BY: Sorts result set in ascending or descending order.\n",
    "\n",
    "LIMIT: Restricts the number of rows returned.\n",
    "\n",
    "CASE: Performs conditional logic to return different outputs."
   ]
  }
 ],
 "metadata": {
  "kernelspec": {
   "display_name": "Python 3",
   "language": "python",
   "name": "python3"
  },
  "language_info": {
   "codemirror_mode": {
    "name": "ipython",
    "version": 3
   },
   "file_extension": ".py",
   "mimetype": "text/x-python",
   "name": "python",
   "nbconvert_exporter": "python",
   "pygments_lexer": "ipython3",
   "version": "3.13.5"
  }
 },
 "nbformat": 4,
 "nbformat_minor": 5
}
